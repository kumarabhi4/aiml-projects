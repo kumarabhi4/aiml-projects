{
 "cells": [
  {
   "cell_type": "markdown",
   "metadata": {
    "id": "PNJ6U0CfMUMe"
   },
   "source": [
    "### Part - A"
   ]
  },
  {
   "cell_type": "markdown",
   "metadata": {
    "id": "abav16pcMhgY"
   },
   "source": [
    "### 1. Data import and Understanding\n",
    "- A. Read the ‘Signals.csv’ as DataFrame and import required libraries.\n",
    "- B. Check for missing values and print percentage for each attribute.\n",
    "- C. Check for presence of duplicate records in the dataset and impute\n",
    "  with appropriate method.\n",
    "- D. Visualise distribution of the target variable.\n",
    "- E. Share insights from the initial data analysis (at least 2)."
   ]
  },
  {
   "cell_type": "code",
   "execution_count": null,
   "metadata": {
    "colab": {
     "base_uri": "https://localhost:8080/"
    },
    "id": "ZIdaG-53_N46",
    "outputId": "6db34055-5c37-48a3-973d-74f0b08ae084"
   },
   "outputs": [
    {
     "name": "stdout",
     "output_type": "stream",
     "text": [
      "Mounted at /content/drive/\n"
     ]
    }
   ],
   "source": [
    "from google.colab import drive\n",
    "drive.mount('/content/drive/')"
   ]
  },
  {
   "cell_type": "code",
   "execution_count": 12,
   "metadata": {},
   "outputs": [
    {
     "name": "stdout",
     "output_type": "stream",
     "text": [
      "Requirement already satisfied: pandas in c:\\users\\abhin\\anaconda3\\envs\\gpu_env\\lib\\site-packages (2.2.2)\n",
      "Requirement already satisfied: scikit-learn in c:\\users\\abhin\\anaconda3\\envs\\gpu_env\\lib\\site-packages (1.5.1)\n",
      "Requirement already satisfied: matplotlib in c:\\users\\abhin\\anaconda3\\envs\\gpu_env\\lib\\site-packages (3.9.2)\n",
      "Requirement already satisfied: seaborn in c:\\users\\abhin\\anaconda3\\envs\\gpu_env\\lib\\site-packages (0.13.2)\n"
     ]
    },
    {
     "name": "stderr",
     "output_type": "stream",
     "text": [
      "ERROR: Could not find a version that satisfies the requirement tensorflow.keras.utils (from versions: none)\n",
      "ERROR: No matching distribution found for tensorflow.keras.utils\n"
     ]
    }
   ],
   "source": [
    "!pip install pandas scikit-learn matplotlib seaborn "
   ]
  },
  {
   "cell_type": "code",
   "execution_count": 8,
   "metadata": {},
   "outputs": [
    {
     "name": "stdout",
     "output_type": "stream",
     "text": [
      "Collecting keras<2.11\n",
      "  Using cached keras-2.10.0-py2.py3-none-any.whl.metadata (1.3 kB)\n",
      "Using cached keras-2.10.0-py2.py3-none-any.whl (1.7 MB)\n",
      "Installing collected packages: keras\n",
      "  Attempting uninstall: keras\n",
      "    Found existing installation: keras 3.5.0\n",
      "    Uninstalling keras-3.5.0:\n",
      "      Successfully uninstalled keras-3.5.0\n",
      "Successfully installed keras-2.10.0\n"
     ]
    },
    {
     "name": "stderr",
     "output_type": "stream",
     "text": [
      "ERROR: pip's dependency resolver does not currently take into account all the packages that are installed. This behaviour is the source of the following dependency conflicts.\n",
      "scikeras 0.13.0 requires keras>=3.2.0, but you have keras 2.10.0 which is incompatible.\n"
     ]
    }
   ],
   "source": [
    "!pip install \"keras<2.11\""
   ]
  },
  {
   "cell_type": "code",
   "execution_count": 31,
   "metadata": {},
   "outputs": [],
   "source": [
    "import os\n",
    "os.environ['IF_CPP_MIN_LOG_LEVEL'] = '2'"
   ]
  },
  {
   "cell_type": "code",
   "execution_count": 7,
   "metadata": {
    "colab": {
     "base_uri": "https://localhost:8080/"
    },
    "id": "FUbnqQnfH2wQ",
    "outputId": "3fed2218-28e8-414b-beab-9220dcc317a7"
   },
   "outputs": [
    {
     "name": "stdout",
     "output_type": "stream",
     "text": [
      "Requirement already satisfied: scikeras in c:\\users\\abhin\\anaconda3\\envs\\gpu_env\\lib\\site-packages (0.13.0)\n",
      "Collecting keras>=3.2.0 (from scikeras)\n",
      "  Using cached keras-3.5.0-py3-none-any.whl.metadata (5.8 kB)\n",
      "Requirement already satisfied: scikit-learn>=1.4.2 in c:\\users\\abhin\\anaconda3\\envs\\gpu_env\\lib\\site-packages (from scikeras) (1.5.1)\n",
      "Requirement already satisfied: absl-py in c:\\users\\abhin\\anaconda3\\envs\\gpu_env\\lib\\site-packages (from keras>=3.2.0->scikeras) (2.1.0)\n",
      "Requirement already satisfied: numpy in c:\\users\\abhin\\anaconda3\\envs\\gpu_env\\lib\\site-packages (from keras>=3.2.0->scikeras) (1.26.4)\n",
      "Requirement already satisfied: rich in c:\\users\\abhin\\anaconda3\\envs\\gpu_env\\lib\\site-packages (from keras>=3.2.0->scikeras) (13.8.0)\n",
      "Requirement already satisfied: namex in c:\\users\\abhin\\anaconda3\\envs\\gpu_env\\lib\\site-packages (from keras>=3.2.0->scikeras) (0.0.8)\n",
      "Requirement already satisfied: h5py in c:\\users\\abhin\\anaconda3\\envs\\gpu_env\\lib\\site-packages (from keras>=3.2.0->scikeras) (3.11.0)\n",
      "Requirement already satisfied: optree in c:\\users\\abhin\\anaconda3\\envs\\gpu_env\\lib\\site-packages (from keras>=3.2.0->scikeras) (0.12.1)\n",
      "Requirement already satisfied: ml-dtypes in c:\\users\\abhin\\anaconda3\\envs\\gpu_env\\lib\\site-packages (from keras>=3.2.0->scikeras) (0.4.0)\n",
      "Requirement already satisfied: packaging in c:\\users\\abhin\\anaconda3\\envs\\gpu_env\\lib\\site-packages (from keras>=3.2.0->scikeras) (24.1)\n",
      "Requirement already satisfied: scipy>=1.6.0 in c:\\users\\abhin\\anaconda3\\envs\\gpu_env\\lib\\site-packages (from scikit-learn>=1.4.2->scikeras) (1.13.1)\n",
      "Requirement already satisfied: joblib>=1.2.0 in c:\\users\\abhin\\anaconda3\\envs\\gpu_env\\lib\\site-packages (from scikit-learn>=1.4.2->scikeras) (1.4.2)\n",
      "Requirement already satisfied: threadpoolctl>=3.1.0 in c:\\users\\abhin\\anaconda3\\envs\\gpu_env\\lib\\site-packages (from scikit-learn>=1.4.2->scikeras) (3.5.0)\n",
      "Requirement already satisfied: typing-extensions>=4.5.0 in c:\\users\\abhin\\anaconda3\\envs\\gpu_env\\lib\\site-packages (from optree->keras>=3.2.0->scikeras) (4.12.2)\n",
      "Requirement already satisfied: markdown-it-py>=2.2.0 in c:\\users\\abhin\\anaconda3\\envs\\gpu_env\\lib\\site-packages (from rich->keras>=3.2.0->scikeras) (3.0.0)\n",
      "Requirement already satisfied: pygments<3.0.0,>=2.13.0 in c:\\users\\abhin\\anaconda3\\envs\\gpu_env\\lib\\site-packages (from rich->keras>=3.2.0->scikeras) (2.18.0)\n",
      "Requirement already satisfied: mdurl~=0.1 in c:\\users\\abhin\\anaconda3\\envs\\gpu_env\\lib\\site-packages (from markdown-it-py>=2.2.0->rich->keras>=3.2.0->scikeras) (0.1.2)\n",
      "Using cached keras-3.5.0-py3-none-any.whl (1.1 MB)\n",
      "Installing collected packages: keras\n",
      "  Attempting uninstall: keras\n",
      "    Found existing installation: keras 2.10.0\n",
      "    Uninstalling keras-2.10.0:\n",
      "      Successfully uninstalled keras-2.10.0\n",
      "Successfully installed keras-3.5.0\n"
     ]
    },
    {
     "name": "stderr",
     "output_type": "stream",
     "text": [
      "ERROR: pip's dependency resolver does not currently take into account all the packages that are installed. This behaviour is the source of the following dependency conflicts.\n",
      "tensorflow 2.10.1 requires keras<2.11,>=2.10.0, but you have keras 3.5.0 which is incompatible.\n"
     ]
    }
   ],
   "source": [
    "import pandas as pd\n",
    "import numpy as np\n",
    "from sklearn.model_selection import train_test_split\n",
    "from sklearn.preprocessing import LabelEncoder, OneHotEncoder\n",
    "from sklearn import model_selection\n",
    "from sklearn.compose import ColumnTransformer\n",
    "import matplotlib.pyplot as plt\n",
    "import seaborn as sns\n",
    "from sklearn.impute import SimpleImputer\n",
    "import warnings\n",
    "from sklearn.metrics import confusion_matrix\n",
    "from sklearn.pipeline import Pipeline\n",
    "from sklearn.model_selection import GridSearchCV\n",
    "from sklearn.model_selection import RandomizedSearchCV\n",
    "import tensorflow as tf\n",
    "from tensorflow.keras.models import Sequential\n",
    "from tensorflow.keras.layers import Dense\n",
    "from tensorflow.keras.layers import Dense, Input, Dropout,BatchNormalization\n",
    "!pip install scikeras\n",
    "from scikeras.wrappers import KerasClassifier\n",
    "import random\n",
    "from tensorflow.keras import backend\n",
    "from keras.utils import to_categorical\n",
    "random.seed(1)\n",
    "np.random.seed(1)\n",
    "tf.random.set_seed(1)\n",
    "warnings.filterwarnings(\"ignore\")"
   ]
  },
  {
   "cell_type": "code",
   "execution_count": null,
   "metadata": {
    "id": "uuvLobNfHWf5"
   },
   "outputs": [],
   "source": [
    "# Read the ‘Signals.csv’ as DataFrame and import required libraries.\n",
    "Data = pd.read_csv('/content/drive/MyDrive/Great_Lakes_AIML_PG/Intro_NN/project/Signal.csv')"
   ]
  },
  {
   "cell_type": "code",
   "execution_count": null,
   "metadata": {
    "colab": {
     "base_uri": "https://localhost:8080/"
    },
    "id": "e1EWBL91JEHK",
    "outputId": "4d6574c5-537c-4889-c57e-fe855dbfcd33"
   },
   "outputs": [
    {
     "data": {
      "text/plain": [
       "(1599, 12)"
      ]
     },
     "execution_count": 6,
     "metadata": {},
     "output_type": "execute_result"
    }
   ],
   "source": [
    "Data.shape"
   ]
  },
  {
   "cell_type": "code",
   "execution_count": null,
   "metadata": {
    "colab": {
     "base_uri": "https://localhost:8080/",
     "height": 244
    },
    "id": "PE69iHfpNLLn",
    "outputId": "a8232f76-2c2b-4c4c-d737-2a5d9ea9f3f2"
   },
   "outputs": [
    {
     "data": {
      "application/vnd.google.colaboratory.intrinsic+json": {
       "summary": "{\n  \"name\": \"Data\",\n  \"rows\": 1599,\n  \"fields\": [\n    {\n      \"column\": \"Parameter 1\",\n      \"properties\": {\n        \"dtype\": \"number\",\n        \"std\": 1.7410963181276953,\n        \"min\": 4.6,\n        \"max\": 15.9,\n        \"num_unique_values\": 96,\n        \"samples\": [\n          5.3,\n          12.7,\n          12.6\n        ],\n        \"semantic_type\": \"\",\n        \"description\": \"\"\n      }\n    },\n    {\n      \"column\": \"Parameter 2\",\n      \"properties\": {\n        \"dtype\": \"number\",\n        \"std\": 0.17905970415353537,\n        \"min\": 0.12,\n        \"max\": 1.58,\n        \"num_unique_values\": 143,\n        \"samples\": [\n          1.025,\n          0.4,\n          0.87\n        ],\n        \"semantic_type\": \"\",\n        \"description\": \"\"\n      }\n    },\n    {\n      \"column\": \"Parameter 3\",\n      \"properties\": {\n        \"dtype\": \"number\",\n        \"std\": 0.19480113740531857,\n        \"min\": 0.0,\n        \"max\": 1.0,\n        \"num_unique_values\": 80,\n        \"samples\": [\n          0.37,\n          0.0,\n          0.09\n        ],\n        \"semantic_type\": \"\",\n        \"description\": \"\"\n      }\n    },\n    {\n      \"column\": \"Parameter 4\",\n      \"properties\": {\n        \"dtype\": \"number\",\n        \"std\": 1.4099280595072798,\n        \"min\": 0.9,\n        \"max\": 15.5,\n        \"num_unique_values\": 91,\n        \"samples\": [\n          11.0,\n          3.0,\n          15.5\n        ],\n        \"semantic_type\": \"\",\n        \"description\": \"\"\n      }\n    },\n    {\n      \"column\": \"Parameter 5\",\n      \"properties\": {\n        \"dtype\": \"number\",\n        \"std\": 0.0470653020100901,\n        \"min\": 0.012,\n        \"max\": 0.611,\n        \"num_unique_values\": 153,\n        \"samples\": [\n          0.096,\n          0.343,\n          0.159\n        ],\n        \"semantic_type\": \"\",\n        \"description\": \"\"\n      }\n    },\n    {\n      \"column\": \"Parameter 6\",\n      \"properties\": {\n        \"dtype\": \"number\",\n        \"std\": 10.460156969809725,\n        \"min\": 1.0,\n        \"max\": 72.0,\n        \"num_unique_values\": 60,\n        \"samples\": [\n          11.0,\n          9.0,\n          32.0\n        ],\n        \"semantic_type\": \"\",\n        \"description\": \"\"\n      }\n    },\n    {\n      \"column\": \"Parameter 7\",\n      \"properties\": {\n        \"dtype\": \"number\",\n        \"std\": 32.895324478299074,\n        \"min\": 6.0,\n        \"max\": 289.0,\n        \"num_unique_values\": 144,\n        \"samples\": [\n          68.0,\n          35.0,\n          101.0\n        ],\n        \"semantic_type\": \"\",\n        \"description\": \"\"\n      }\n    },\n    {\n      \"column\": \"Parameter 8\",\n      \"properties\": {\n        \"dtype\": \"number\",\n        \"std\": 0.0018873339538425554,\n        \"min\": 0.99007,\n        \"max\": 1.00369,\n        \"num_unique_values\": 436,\n        \"samples\": [\n          0.99974,\n          1.0001,\n          0.99471\n        ],\n        \"semantic_type\": \"\",\n        \"description\": \"\"\n      }\n    },\n    {\n      \"column\": \"Parameter 9\",\n      \"properties\": {\n        \"dtype\": \"number\",\n        \"std\": 0.15438646490354277,\n        \"min\": 2.74,\n        \"max\": 4.01,\n        \"num_unique_values\": 89,\n        \"samples\": [\n          3.07,\n          3.0,\n          3.15\n        ],\n        \"semantic_type\": \"\",\n        \"description\": \"\"\n      }\n    },\n    {\n      \"column\": \"Parameter 10\",\n      \"properties\": {\n        \"dtype\": \"number\",\n        \"std\": 0.16950697959010996,\n        \"min\": 0.33,\n        \"max\": 2.0,\n        \"num_unique_values\": 96,\n        \"samples\": [\n          1.07,\n          1.04,\n          1.18\n        ],\n        \"semantic_type\": \"\",\n        \"description\": \"\"\n      }\n    },\n    {\n      \"column\": \"Parameter 11\",\n      \"properties\": {\n        \"dtype\": \"number\",\n        \"std\": 1.0656675818563988,\n        \"min\": 8.4,\n        \"max\": 14.9,\n        \"num_unique_values\": 65,\n        \"samples\": [\n          8.5,\n          9.95,\n          9.4\n        ],\n        \"semantic_type\": \"\",\n        \"description\": \"\"\n      }\n    },\n    {\n      \"column\": \"Signal_Strength\",\n      \"properties\": {\n        \"dtype\": \"number\",\n        \"std\": 0,\n        \"min\": 3,\n        \"max\": 8,\n        \"num_unique_values\": 6,\n        \"samples\": [\n          5,\n          6,\n          3\n        ],\n        \"semantic_type\": \"\",\n        \"description\": \"\"\n      }\n    }\n  ]\n}",
       "type": "dataframe",
       "variable_name": "Data"
      },
      "text/html": [
       "\n",
       "  <div id=\"df-f381beff-8366-4b7c-aa06-a23c22aeb050\" class=\"colab-df-container\">\n",
       "    <div>\n",
       "<style scoped>\n",
       "    .dataframe tbody tr th:only-of-type {\n",
       "        vertical-align: middle;\n",
       "    }\n",
       "\n",
       "    .dataframe tbody tr th {\n",
       "        vertical-align: top;\n",
       "    }\n",
       "\n",
       "    .dataframe thead th {\n",
       "        text-align: right;\n",
       "    }\n",
       "</style>\n",
       "<table border=\"1\" class=\"dataframe\">\n",
       "  <thead>\n",
       "    <tr style=\"text-align: right;\">\n",
       "      <th></th>\n",
       "      <th>Parameter 1</th>\n",
       "      <th>Parameter 2</th>\n",
       "      <th>Parameter 3</th>\n",
       "      <th>Parameter 4</th>\n",
       "      <th>Parameter 5</th>\n",
       "      <th>Parameter 6</th>\n",
       "      <th>Parameter 7</th>\n",
       "      <th>Parameter 8</th>\n",
       "      <th>Parameter 9</th>\n",
       "      <th>Parameter 10</th>\n",
       "      <th>Parameter 11</th>\n",
       "      <th>Signal_Strength</th>\n",
       "    </tr>\n",
       "  </thead>\n",
       "  <tbody>\n",
       "    <tr>\n",
       "      <th>0</th>\n",
       "      <td>7.4</td>\n",
       "      <td>0.70</td>\n",
       "      <td>0.00</td>\n",
       "      <td>1.9</td>\n",
       "      <td>0.076</td>\n",
       "      <td>11.0</td>\n",
       "      <td>34.0</td>\n",
       "      <td>0.9978</td>\n",
       "      <td>3.51</td>\n",
       "      <td>0.56</td>\n",
       "      <td>9.4</td>\n",
       "      <td>5</td>\n",
       "    </tr>\n",
       "    <tr>\n",
       "      <th>1</th>\n",
       "      <td>7.8</td>\n",
       "      <td>0.88</td>\n",
       "      <td>0.00</td>\n",
       "      <td>2.6</td>\n",
       "      <td>0.098</td>\n",
       "      <td>25.0</td>\n",
       "      <td>67.0</td>\n",
       "      <td>0.9968</td>\n",
       "      <td>3.20</td>\n",
       "      <td>0.68</td>\n",
       "      <td>9.8</td>\n",
       "      <td>5</td>\n",
       "    </tr>\n",
       "    <tr>\n",
       "      <th>2</th>\n",
       "      <td>7.8</td>\n",
       "      <td>0.76</td>\n",
       "      <td>0.04</td>\n",
       "      <td>2.3</td>\n",
       "      <td>0.092</td>\n",
       "      <td>15.0</td>\n",
       "      <td>54.0</td>\n",
       "      <td>0.9970</td>\n",
       "      <td>3.26</td>\n",
       "      <td>0.65</td>\n",
       "      <td>9.8</td>\n",
       "      <td>5</td>\n",
       "    </tr>\n",
       "    <tr>\n",
       "      <th>3</th>\n",
       "      <td>11.2</td>\n",
       "      <td>0.28</td>\n",
       "      <td>0.56</td>\n",
       "      <td>1.9</td>\n",
       "      <td>0.075</td>\n",
       "      <td>17.0</td>\n",
       "      <td>60.0</td>\n",
       "      <td>0.9980</td>\n",
       "      <td>3.16</td>\n",
       "      <td>0.58</td>\n",
       "      <td>9.8</td>\n",
       "      <td>6</td>\n",
       "    </tr>\n",
       "    <tr>\n",
       "      <th>4</th>\n",
       "      <td>7.4</td>\n",
       "      <td>0.70</td>\n",
       "      <td>0.00</td>\n",
       "      <td>1.9</td>\n",
       "      <td>0.076</td>\n",
       "      <td>11.0</td>\n",
       "      <td>34.0</td>\n",
       "      <td>0.9978</td>\n",
       "      <td>3.51</td>\n",
       "      <td>0.56</td>\n",
       "      <td>9.4</td>\n",
       "      <td>5</td>\n",
       "    </tr>\n",
       "  </tbody>\n",
       "</table>\n",
       "</div>\n",
       "    <div class=\"colab-df-buttons\">\n",
       "\n",
       "  <div class=\"colab-df-container\">\n",
       "    <button class=\"colab-df-convert\" onclick=\"convertToInteractive('df-f381beff-8366-4b7c-aa06-a23c22aeb050')\"\n",
       "            title=\"Convert this dataframe to an interactive table.\"\n",
       "            style=\"display:none;\">\n",
       "\n",
       "  <svg xmlns=\"http://www.w3.org/2000/svg\" height=\"24px\" viewBox=\"0 -960 960 960\">\n",
       "    <path d=\"M120-120v-720h720v720H120Zm60-500h600v-160H180v160Zm220 220h160v-160H400v160Zm0 220h160v-160H400v160ZM180-400h160v-160H180v160Zm440 0h160v-160H620v160ZM180-180h160v-160H180v160Zm440 0h160v-160H620v160Z\"/>\n",
       "  </svg>\n",
       "    </button>\n",
       "\n",
       "  <style>\n",
       "    .colab-df-container {\n",
       "      display:flex;\n",
       "      gap: 12px;\n",
       "    }\n",
       "\n",
       "    .colab-df-convert {\n",
       "      background-color: #E8F0FE;\n",
       "      border: none;\n",
       "      border-radius: 50%;\n",
       "      cursor: pointer;\n",
       "      display: none;\n",
       "      fill: #1967D2;\n",
       "      height: 32px;\n",
       "      padding: 0 0 0 0;\n",
       "      width: 32px;\n",
       "    }\n",
       "\n",
       "    .colab-df-convert:hover {\n",
       "      background-color: #E2EBFA;\n",
       "      box-shadow: 0px 1px 2px rgba(60, 64, 67, 0.3), 0px 1px 3px 1px rgba(60, 64, 67, 0.15);\n",
       "      fill: #174EA6;\n",
       "    }\n",
       "\n",
       "    .colab-df-buttons div {\n",
       "      margin-bottom: 4px;\n",
       "    }\n",
       "\n",
       "    [theme=dark] .colab-df-convert {\n",
       "      background-color: #3B4455;\n",
       "      fill: #D2E3FC;\n",
       "    }\n",
       "\n",
       "    [theme=dark] .colab-df-convert:hover {\n",
       "      background-color: #434B5C;\n",
       "      box-shadow: 0px 1px 3px 1px rgba(0, 0, 0, 0.15);\n",
       "      filter: drop-shadow(0px 1px 2px rgba(0, 0, 0, 0.3));\n",
       "      fill: #FFFFFF;\n",
       "    }\n",
       "  </style>\n",
       "\n",
       "    <script>\n",
       "      const buttonEl =\n",
       "        document.querySelector('#df-f381beff-8366-4b7c-aa06-a23c22aeb050 button.colab-df-convert');\n",
       "      buttonEl.style.display =\n",
       "        google.colab.kernel.accessAllowed ? 'block' : 'none';\n",
       "\n",
       "      async function convertToInteractive(key) {\n",
       "        const element = document.querySelector('#df-f381beff-8366-4b7c-aa06-a23c22aeb050');\n",
       "        const dataTable =\n",
       "          await google.colab.kernel.invokeFunction('convertToInteractive',\n",
       "                                                    [key], {});\n",
       "        if (!dataTable) return;\n",
       "\n",
       "        const docLinkHtml = 'Like what you see? Visit the ' +\n",
       "          '<a target=\"_blank\" href=https://colab.research.google.com/notebooks/data_table.ipynb>data table notebook</a>'\n",
       "          + ' to learn more about interactive tables.';\n",
       "        element.innerHTML = '';\n",
       "        dataTable['output_type'] = 'display_data';\n",
       "        await google.colab.output.renderOutput(dataTable, element);\n",
       "        const docLink = document.createElement('div');\n",
       "        docLink.innerHTML = docLinkHtml;\n",
       "        element.appendChild(docLink);\n",
       "      }\n",
       "    </script>\n",
       "  </div>\n",
       "\n",
       "\n",
       "<div id=\"df-322f7b48-677d-4f62-84d6-cbd09b8cacec\">\n",
       "  <button class=\"colab-df-quickchart\" onclick=\"quickchart('df-322f7b48-677d-4f62-84d6-cbd09b8cacec')\"\n",
       "            title=\"Suggest charts\"\n",
       "            style=\"display:none;\">\n",
       "\n",
       "<svg xmlns=\"http://www.w3.org/2000/svg\" height=\"24px\"viewBox=\"0 0 24 24\"\n",
       "     width=\"24px\">\n",
       "    <g>\n",
       "        <path d=\"M19 3H5c-1.1 0-2 .9-2 2v14c0 1.1.9 2 2 2h14c1.1 0 2-.9 2-2V5c0-1.1-.9-2-2-2zM9 17H7v-7h2v7zm4 0h-2V7h2v10zm4 0h-2v-4h2v4z\"/>\n",
       "    </g>\n",
       "</svg>\n",
       "  </button>\n",
       "\n",
       "<style>\n",
       "  .colab-df-quickchart {\n",
       "      --bg-color: #E8F0FE;\n",
       "      --fill-color: #1967D2;\n",
       "      --hover-bg-color: #E2EBFA;\n",
       "      --hover-fill-color: #174EA6;\n",
       "      --disabled-fill-color: #AAA;\n",
       "      --disabled-bg-color: #DDD;\n",
       "  }\n",
       "\n",
       "  [theme=dark] .colab-df-quickchart {\n",
       "      --bg-color: #3B4455;\n",
       "      --fill-color: #D2E3FC;\n",
       "      --hover-bg-color: #434B5C;\n",
       "      --hover-fill-color: #FFFFFF;\n",
       "      --disabled-bg-color: #3B4455;\n",
       "      --disabled-fill-color: #666;\n",
       "  }\n",
       "\n",
       "  .colab-df-quickchart {\n",
       "    background-color: var(--bg-color);\n",
       "    border: none;\n",
       "    border-radius: 50%;\n",
       "    cursor: pointer;\n",
       "    display: none;\n",
       "    fill: var(--fill-color);\n",
       "    height: 32px;\n",
       "    padding: 0;\n",
       "    width: 32px;\n",
       "  }\n",
       "\n",
       "  .colab-df-quickchart:hover {\n",
       "    background-color: var(--hover-bg-color);\n",
       "    box-shadow: 0 1px 2px rgba(60, 64, 67, 0.3), 0 1px 3px 1px rgba(60, 64, 67, 0.15);\n",
       "    fill: var(--button-hover-fill-color);\n",
       "  }\n",
       "\n",
       "  .colab-df-quickchart-complete:disabled,\n",
       "  .colab-df-quickchart-complete:disabled:hover {\n",
       "    background-color: var(--disabled-bg-color);\n",
       "    fill: var(--disabled-fill-color);\n",
       "    box-shadow: none;\n",
       "  }\n",
       "\n",
       "  .colab-df-spinner {\n",
       "    border: 2px solid var(--fill-color);\n",
       "    border-color: transparent;\n",
       "    border-bottom-color: var(--fill-color);\n",
       "    animation:\n",
       "      spin 1s steps(1) infinite;\n",
       "  }\n",
       "\n",
       "  @keyframes spin {\n",
       "    0% {\n",
       "      border-color: transparent;\n",
       "      border-bottom-color: var(--fill-color);\n",
       "      border-left-color: var(--fill-color);\n",
       "    }\n",
       "    20% {\n",
       "      border-color: transparent;\n",
       "      border-left-color: var(--fill-color);\n",
       "      border-top-color: var(--fill-color);\n",
       "    }\n",
       "    30% {\n",
       "      border-color: transparent;\n",
       "      border-left-color: var(--fill-color);\n",
       "      border-top-color: var(--fill-color);\n",
       "      border-right-color: var(--fill-color);\n",
       "    }\n",
       "    40% {\n",
       "      border-color: transparent;\n",
       "      border-right-color: var(--fill-color);\n",
       "      border-top-color: var(--fill-color);\n",
       "    }\n",
       "    60% {\n",
       "      border-color: transparent;\n",
       "      border-right-color: var(--fill-color);\n",
       "    }\n",
       "    80% {\n",
       "      border-color: transparent;\n",
       "      border-right-color: var(--fill-color);\n",
       "      border-bottom-color: var(--fill-color);\n",
       "    }\n",
       "    90% {\n",
       "      border-color: transparent;\n",
       "      border-bottom-color: var(--fill-color);\n",
       "    }\n",
       "  }\n",
       "</style>\n",
       "\n",
       "  <script>\n",
       "    async function quickchart(key) {\n",
       "      const quickchartButtonEl =\n",
       "        document.querySelector('#' + key + ' button');\n",
       "      quickchartButtonEl.disabled = true;  // To prevent multiple clicks.\n",
       "      quickchartButtonEl.classList.add('colab-df-spinner');\n",
       "      try {\n",
       "        const charts = await google.colab.kernel.invokeFunction(\n",
       "            'suggestCharts', [key], {});\n",
       "      } catch (error) {\n",
       "        console.error('Error during call to suggestCharts:', error);\n",
       "      }\n",
       "      quickchartButtonEl.classList.remove('colab-df-spinner');\n",
       "      quickchartButtonEl.classList.add('colab-df-quickchart-complete');\n",
       "    }\n",
       "    (() => {\n",
       "      let quickchartButtonEl =\n",
       "        document.querySelector('#df-322f7b48-677d-4f62-84d6-cbd09b8cacec button');\n",
       "      quickchartButtonEl.style.display =\n",
       "        google.colab.kernel.accessAllowed ? 'block' : 'none';\n",
       "    })();\n",
       "  </script>\n",
       "</div>\n",
       "\n",
       "    </div>\n",
       "  </div>\n"
      ],
      "text/plain": [
       "   Parameter 1  Parameter 2  Parameter 3  Parameter 4  Parameter 5  \\\n",
       "0          7.4         0.70         0.00          1.9        0.076   \n",
       "1          7.8         0.88         0.00          2.6        0.098   \n",
       "2          7.8         0.76         0.04          2.3        0.092   \n",
       "3         11.2         0.28         0.56          1.9        0.075   \n",
       "4          7.4         0.70         0.00          1.9        0.076   \n",
       "\n",
       "   Parameter 6  Parameter 7  Parameter 8  Parameter 9  Parameter 10  \\\n",
       "0         11.0         34.0       0.9978         3.51          0.56   \n",
       "1         25.0         67.0       0.9968         3.20          0.68   \n",
       "2         15.0         54.0       0.9970         3.26          0.65   \n",
       "3         17.0         60.0       0.9980         3.16          0.58   \n",
       "4         11.0         34.0       0.9978         3.51          0.56   \n",
       "\n",
       "   Parameter 11  Signal_Strength  \n",
       "0           9.4                5  \n",
       "1           9.8                5  \n",
       "2           9.8                5  \n",
       "3           9.8                6  \n",
       "4           9.4                5  "
      ]
     },
     "execution_count": 7,
     "metadata": {},
     "output_type": "execute_result"
    }
   ],
   "source": [
    "# Check for missing values and print percentage for each attribute.\n",
    "Data.head()"
   ]
  },
  {
   "cell_type": "code",
   "execution_count": null,
   "metadata": {
    "colab": {
     "base_uri": "https://localhost:8080/",
     "height": 244
    },
    "id": "iPBK_FvXJ1by",
    "outputId": "36ac8a39-67fd-4347-e47e-41b449916d4b"
   },
   "outputs": [
    {
     "data": {
      "application/vnd.google.colaboratory.intrinsic+json": {
       "summary": "{\n  \"name\": \"Data\",\n  \"rows\": 5,\n  \"fields\": [\n    {\n      \"column\": \"Parameter 1\",\n      \"properties\": {\n        \"dtype\": \"number\",\n        \"std\": 0.18165902124584932,\n        \"min\": 5.9,\n        \"max\": 6.3,\n        \"num_unique_values\": 4,\n        \"samples\": [\n          5.9,\n          6.0,\n          6.2\n        ],\n        \"semantic_type\": \"\",\n        \"description\": \"\"\n      }\n    },\n    {\n      \"column\": \"Parameter 2\",\n      \"properties\": {\n        \"dtype\": \"number\",\n        \"std\": 0.1294990347454374,\n        \"min\": 0.31,\n        \"max\": 0.645,\n        \"num_unique_values\": 5,\n        \"samples\": [\n          0.55,\n          0.31,\n          0.51\n        ],\n        \"semantic_type\": \"\",\n        \"description\": \"\"\n      }\n    },\n    {\n      \"column\": \"Parameter 3\",\n      \"properties\": {\n        \"dtype\": \"number\",\n        \"std\": 0.16324827717314508,\n        \"min\": 0.08,\n        \"max\": 0.47,\n        \"num_unique_values\": 5,\n        \"samples\": [\n          0.1,\n          0.47,\n          0.13\n        ],\n        \"semantic_type\": \"\",\n        \"description\": \"\"\n      }\n    },\n    {\n      \"column\": \"Parameter 4\",\n      \"properties\": {\n        \"dtype\": \"number\",\n        \"std\": 0.6723094525588644,\n        \"min\": 2.0,\n        \"max\": 3.6,\n        \"num_unique_values\": 4,\n        \"samples\": [\n          2.2,\n          3.6,\n          2.0\n        ],\n        \"semantic_type\": \"\",\n        \"description\": \"\"\n      }\n    },\n    {\n      \"column\": \"Parameter 5\",\n      \"properties\": {\n        \"dtype\": \"number\",\n        \"std\": 0.010653637876331256,\n        \"min\": 0.062,\n        \"max\": 0.09,\n        \"num_unique_values\": 5,\n        \"samples\": [\n          0.062,\n          0.067,\n          0.076\n        ],\n        \"semantic_type\": \"\",\n        \"description\": \"\"\n      }\n    },\n    {\n      \"column\": \"Parameter 6\",\n      \"properties\": {\n        \"dtype\": \"number\",\n        \"std\": 7.648529270389178,\n        \"min\": 18.0,\n        \"max\": 39.0,\n        \"num_unique_values\": 4,\n        \"samples\": [\n          39.0,\n          18.0,\n          32.0\n        ],\n        \"semantic_type\": \"\",\n        \"description\": \"\"\n      }\n    },\n    {\n      \"column\": \"Parameter 7\",\n      \"properties\": {\n        \"dtype\": \"number\",\n        \"std\": 4.147288270665544,\n        \"min\": 40.0,\n        \"max\": 51.0,\n        \"num_unique_values\": 4,\n        \"samples\": [\n          51.0,\n          42.0,\n          44.0\n        ],\n        \"semantic_type\": \"\",\n        \"description\": \"\"\n      }\n    },\n    {\n      \"column\": \"Parameter 8\",\n      \"properties\": {\n        \"dtype\": \"number\",\n        \"std\": 0.00033215960019241747,\n        \"min\": 0.9949,\n        \"max\": 0.99574,\n        \"num_unique_values\": 5,\n        \"samples\": [\n          0.99512,\n          0.99549,\n          0.99574\n        ],\n        \"semantic_type\": \"\",\n        \"description\": \"\"\n      }\n    },\n    {\n      \"column\": \"Parameter 9\",\n      \"properties\": {\n        \"dtype\": \"number\",\n        \"std\": 0.07382411530116692,\n        \"min\": 3.39,\n        \"max\": 3.57,\n        \"num_unique_values\": 5,\n        \"samples\": [\n          3.52,\n          3.39,\n          3.42\n        ],\n        \"semantic_type\": \"\",\n        \"description\": \"\"\n      }\n    },\n    {\n      \"column\": \"Parameter 10\",\n      \"properties\": {\n        \"dtype\": \"number\",\n        \"std\": 0.0739594483484024,\n        \"min\": 0.58,\n        \"max\": 0.76,\n        \"num_unique_values\": 5,\n        \"samples\": [\n          0.76,\n          0.66,\n          0.75\n        ],\n        \"semantic_type\": \"\",\n        \"description\": \"\"\n      }\n    },\n    {\n      \"column\": \"Parameter 11\",\n      \"properties\": {\n        \"dtype\": \"number\",\n        \"std\": 0.41472882706655445,\n        \"min\": 10.2,\n        \"max\": 11.2,\n        \"num_unique_values\": 4,\n        \"samples\": [\n          11.2,\n          10.2,\n          10.5\n        ],\n        \"semantic_type\": \"\",\n        \"description\": \"\"\n      }\n    },\n    {\n      \"column\": \"Signal_Strength\",\n      \"properties\": {\n        \"dtype\": \"number\",\n        \"std\": 0,\n        \"min\": 5,\n        \"max\": 6,\n        \"num_unique_values\": 2,\n        \"samples\": [\n          6,\n          5\n        ],\n        \"semantic_type\": \"\",\n        \"description\": \"\"\n      }\n    }\n  ]\n}",
       "type": "dataframe"
      },
      "text/html": [
       "\n",
       "  <div id=\"df-78ce8017-1b7e-43cf-9e65-52f529777730\" class=\"colab-df-container\">\n",
       "    <div>\n",
       "<style scoped>\n",
       "    .dataframe tbody tr th:only-of-type {\n",
       "        vertical-align: middle;\n",
       "    }\n",
       "\n",
       "    .dataframe tbody tr th {\n",
       "        vertical-align: top;\n",
       "    }\n",
       "\n",
       "    .dataframe thead th {\n",
       "        text-align: right;\n",
       "    }\n",
       "</style>\n",
       "<table border=\"1\" class=\"dataframe\">\n",
       "  <thead>\n",
       "    <tr style=\"text-align: right;\">\n",
       "      <th></th>\n",
       "      <th>Parameter 1</th>\n",
       "      <th>Parameter 2</th>\n",
       "      <th>Parameter 3</th>\n",
       "      <th>Parameter 4</th>\n",
       "      <th>Parameter 5</th>\n",
       "      <th>Parameter 6</th>\n",
       "      <th>Parameter 7</th>\n",
       "      <th>Parameter 8</th>\n",
       "      <th>Parameter 9</th>\n",
       "      <th>Parameter 10</th>\n",
       "      <th>Parameter 11</th>\n",
       "      <th>Signal_Strength</th>\n",
       "    </tr>\n",
       "  </thead>\n",
       "  <tbody>\n",
       "    <tr>\n",
       "      <th>1594</th>\n",
       "      <td>6.2</td>\n",
       "      <td>0.600</td>\n",
       "      <td>0.08</td>\n",
       "      <td>2.0</td>\n",
       "      <td>0.090</td>\n",
       "      <td>32.0</td>\n",
       "      <td>44.0</td>\n",
       "      <td>0.99490</td>\n",
       "      <td>3.45</td>\n",
       "      <td>0.58</td>\n",
       "      <td>10.5</td>\n",
       "      <td>5</td>\n",
       "    </tr>\n",
       "    <tr>\n",
       "      <th>1595</th>\n",
       "      <td>5.9</td>\n",
       "      <td>0.550</td>\n",
       "      <td>0.10</td>\n",
       "      <td>2.2</td>\n",
       "      <td>0.062</td>\n",
       "      <td>39.0</td>\n",
       "      <td>51.0</td>\n",
       "      <td>0.99512</td>\n",
       "      <td>3.52</td>\n",
       "      <td>0.76</td>\n",
       "      <td>11.2</td>\n",
       "      <td>6</td>\n",
       "    </tr>\n",
       "    <tr>\n",
       "      <th>1596</th>\n",
       "      <td>6.3</td>\n",
       "      <td>0.510</td>\n",
       "      <td>0.13</td>\n",
       "      <td>2.3</td>\n",
       "      <td>0.076</td>\n",
       "      <td>29.0</td>\n",
       "      <td>40.0</td>\n",
       "      <td>0.99574</td>\n",
       "      <td>3.42</td>\n",
       "      <td>0.75</td>\n",
       "      <td>11.0</td>\n",
       "      <td>6</td>\n",
       "    </tr>\n",
       "    <tr>\n",
       "      <th>1597</th>\n",
       "      <td>5.9</td>\n",
       "      <td>0.645</td>\n",
       "      <td>0.12</td>\n",
       "      <td>2.0</td>\n",
       "      <td>0.075</td>\n",
       "      <td>32.0</td>\n",
       "      <td>44.0</td>\n",
       "      <td>0.99547</td>\n",
       "      <td>3.57</td>\n",
       "      <td>0.71</td>\n",
       "      <td>10.2</td>\n",
       "      <td>5</td>\n",
       "    </tr>\n",
       "    <tr>\n",
       "      <th>1598</th>\n",
       "      <td>6.0</td>\n",
       "      <td>0.310</td>\n",
       "      <td>0.47</td>\n",
       "      <td>3.6</td>\n",
       "      <td>0.067</td>\n",
       "      <td>18.0</td>\n",
       "      <td>42.0</td>\n",
       "      <td>0.99549</td>\n",
       "      <td>3.39</td>\n",
       "      <td>0.66</td>\n",
       "      <td>11.0</td>\n",
       "      <td>6</td>\n",
       "    </tr>\n",
       "  </tbody>\n",
       "</table>\n",
       "</div>\n",
       "    <div class=\"colab-df-buttons\">\n",
       "\n",
       "  <div class=\"colab-df-container\">\n",
       "    <button class=\"colab-df-convert\" onclick=\"convertToInteractive('df-78ce8017-1b7e-43cf-9e65-52f529777730')\"\n",
       "            title=\"Convert this dataframe to an interactive table.\"\n",
       "            style=\"display:none;\">\n",
       "\n",
       "  <svg xmlns=\"http://www.w3.org/2000/svg\" height=\"24px\" viewBox=\"0 -960 960 960\">\n",
       "    <path d=\"M120-120v-720h720v720H120Zm60-500h600v-160H180v160Zm220 220h160v-160H400v160Zm0 220h160v-160H400v160ZM180-400h160v-160H180v160Zm440 0h160v-160H620v160ZM180-180h160v-160H180v160Zm440 0h160v-160H620v160Z\"/>\n",
       "  </svg>\n",
       "    </button>\n",
       "\n",
       "  <style>\n",
       "    .colab-df-container {\n",
       "      display:flex;\n",
       "      gap: 12px;\n",
       "    }\n",
       "\n",
       "    .colab-df-convert {\n",
       "      background-color: #E8F0FE;\n",
       "      border: none;\n",
       "      border-radius: 50%;\n",
       "      cursor: pointer;\n",
       "      display: none;\n",
       "      fill: #1967D2;\n",
       "      height: 32px;\n",
       "      padding: 0 0 0 0;\n",
       "      width: 32px;\n",
       "    }\n",
       "\n",
       "    .colab-df-convert:hover {\n",
       "      background-color: #E2EBFA;\n",
       "      box-shadow: 0px 1px 2px rgba(60, 64, 67, 0.3), 0px 1px 3px 1px rgba(60, 64, 67, 0.15);\n",
       "      fill: #174EA6;\n",
       "    }\n",
       "\n",
       "    .colab-df-buttons div {\n",
       "      margin-bottom: 4px;\n",
       "    }\n",
       "\n",
       "    [theme=dark] .colab-df-convert {\n",
       "      background-color: #3B4455;\n",
       "      fill: #D2E3FC;\n",
       "    }\n",
       "\n",
       "    [theme=dark] .colab-df-convert:hover {\n",
       "      background-color: #434B5C;\n",
       "      box-shadow: 0px 1px 3px 1px rgba(0, 0, 0, 0.15);\n",
       "      filter: drop-shadow(0px 1px 2px rgba(0, 0, 0, 0.3));\n",
       "      fill: #FFFFFF;\n",
       "    }\n",
       "  </style>\n",
       "\n",
       "    <script>\n",
       "      const buttonEl =\n",
       "        document.querySelector('#df-78ce8017-1b7e-43cf-9e65-52f529777730 button.colab-df-convert');\n",
       "      buttonEl.style.display =\n",
       "        google.colab.kernel.accessAllowed ? 'block' : 'none';\n",
       "\n",
       "      async function convertToInteractive(key) {\n",
       "        const element = document.querySelector('#df-78ce8017-1b7e-43cf-9e65-52f529777730');\n",
       "        const dataTable =\n",
       "          await google.colab.kernel.invokeFunction('convertToInteractive',\n",
       "                                                    [key], {});\n",
       "        if (!dataTable) return;\n",
       "\n",
       "        const docLinkHtml = 'Like what you see? Visit the ' +\n",
       "          '<a target=\"_blank\" href=https://colab.research.google.com/notebooks/data_table.ipynb>data table notebook</a>'\n",
       "          + ' to learn more about interactive tables.';\n",
       "        element.innerHTML = '';\n",
       "        dataTable['output_type'] = 'display_data';\n",
       "        await google.colab.output.renderOutput(dataTable, element);\n",
       "        const docLink = document.createElement('div');\n",
       "        docLink.innerHTML = docLinkHtml;\n",
       "        element.appendChild(docLink);\n",
       "      }\n",
       "    </script>\n",
       "  </div>\n",
       "\n",
       "\n",
       "<div id=\"df-bfc0be4c-deb7-45c2-b692-02c71acb8c89\">\n",
       "  <button class=\"colab-df-quickchart\" onclick=\"quickchart('df-bfc0be4c-deb7-45c2-b692-02c71acb8c89')\"\n",
       "            title=\"Suggest charts\"\n",
       "            style=\"display:none;\">\n",
       "\n",
       "<svg xmlns=\"http://www.w3.org/2000/svg\" height=\"24px\"viewBox=\"0 0 24 24\"\n",
       "     width=\"24px\">\n",
       "    <g>\n",
       "        <path d=\"M19 3H5c-1.1 0-2 .9-2 2v14c0 1.1.9 2 2 2h14c1.1 0 2-.9 2-2V5c0-1.1-.9-2-2-2zM9 17H7v-7h2v7zm4 0h-2V7h2v10zm4 0h-2v-4h2v4z\"/>\n",
       "    </g>\n",
       "</svg>\n",
       "  </button>\n",
       "\n",
       "<style>\n",
       "  .colab-df-quickchart {\n",
       "      --bg-color: #E8F0FE;\n",
       "      --fill-color: #1967D2;\n",
       "      --hover-bg-color: #E2EBFA;\n",
       "      --hover-fill-color: #174EA6;\n",
       "      --disabled-fill-color: #AAA;\n",
       "      --disabled-bg-color: #DDD;\n",
       "  }\n",
       "\n",
       "  [theme=dark] .colab-df-quickchart {\n",
       "      --bg-color: #3B4455;\n",
       "      --fill-color: #D2E3FC;\n",
       "      --hover-bg-color: #434B5C;\n",
       "      --hover-fill-color: #FFFFFF;\n",
       "      --disabled-bg-color: #3B4455;\n",
       "      --disabled-fill-color: #666;\n",
       "  }\n",
       "\n",
       "  .colab-df-quickchart {\n",
       "    background-color: var(--bg-color);\n",
       "    border: none;\n",
       "    border-radius: 50%;\n",
       "    cursor: pointer;\n",
       "    display: none;\n",
       "    fill: var(--fill-color);\n",
       "    height: 32px;\n",
       "    padding: 0;\n",
       "    width: 32px;\n",
       "  }\n",
       "\n",
       "  .colab-df-quickchart:hover {\n",
       "    background-color: var(--hover-bg-color);\n",
       "    box-shadow: 0 1px 2px rgba(60, 64, 67, 0.3), 0 1px 3px 1px rgba(60, 64, 67, 0.15);\n",
       "    fill: var(--button-hover-fill-color);\n",
       "  }\n",
       "\n",
       "  .colab-df-quickchart-complete:disabled,\n",
       "  .colab-df-quickchart-complete:disabled:hover {\n",
       "    background-color: var(--disabled-bg-color);\n",
       "    fill: var(--disabled-fill-color);\n",
       "    box-shadow: none;\n",
       "  }\n",
       "\n",
       "  .colab-df-spinner {\n",
       "    border: 2px solid var(--fill-color);\n",
       "    border-color: transparent;\n",
       "    border-bottom-color: var(--fill-color);\n",
       "    animation:\n",
       "      spin 1s steps(1) infinite;\n",
       "  }\n",
       "\n",
       "  @keyframes spin {\n",
       "    0% {\n",
       "      border-color: transparent;\n",
       "      border-bottom-color: var(--fill-color);\n",
       "      border-left-color: var(--fill-color);\n",
       "    }\n",
       "    20% {\n",
       "      border-color: transparent;\n",
       "      border-left-color: var(--fill-color);\n",
       "      border-top-color: var(--fill-color);\n",
       "    }\n",
       "    30% {\n",
       "      border-color: transparent;\n",
       "      border-left-color: var(--fill-color);\n",
       "      border-top-color: var(--fill-color);\n",
       "      border-right-color: var(--fill-color);\n",
       "    }\n",
       "    40% {\n",
       "      border-color: transparent;\n",
       "      border-right-color: var(--fill-color);\n",
       "      border-top-color: var(--fill-color);\n",
       "    }\n",
       "    60% {\n",
       "      border-color: transparent;\n",
       "      border-right-color: var(--fill-color);\n",
       "    }\n",
       "    80% {\n",
       "      border-color: transparent;\n",
       "      border-right-color: var(--fill-color);\n",
       "      border-bottom-color: var(--fill-color);\n",
       "    }\n",
       "    90% {\n",
       "      border-color: transparent;\n",
       "      border-bottom-color: var(--fill-color);\n",
       "    }\n",
       "  }\n",
       "</style>\n",
       "\n",
       "  <script>\n",
       "    async function quickchart(key) {\n",
       "      const quickchartButtonEl =\n",
       "        document.querySelector('#' + key + ' button');\n",
       "      quickchartButtonEl.disabled = true;  // To prevent multiple clicks.\n",
       "      quickchartButtonEl.classList.add('colab-df-spinner');\n",
       "      try {\n",
       "        const charts = await google.colab.kernel.invokeFunction(\n",
       "            'suggestCharts', [key], {});\n",
       "      } catch (error) {\n",
       "        console.error('Error during call to suggestCharts:', error);\n",
       "      }\n",
       "      quickchartButtonEl.classList.remove('colab-df-spinner');\n",
       "      quickchartButtonEl.classList.add('colab-df-quickchart-complete');\n",
       "    }\n",
       "    (() => {\n",
       "      let quickchartButtonEl =\n",
       "        document.querySelector('#df-bfc0be4c-deb7-45c2-b692-02c71acb8c89 button');\n",
       "      quickchartButtonEl.style.display =\n",
       "        google.colab.kernel.accessAllowed ? 'block' : 'none';\n",
       "    })();\n",
       "  </script>\n",
       "</div>\n",
       "\n",
       "    </div>\n",
       "  </div>\n"
      ],
      "text/plain": [
       "      Parameter 1  Parameter 2  Parameter 3  Parameter 4  Parameter 5  \\\n",
       "1594          6.2        0.600         0.08          2.0        0.090   \n",
       "1595          5.9        0.550         0.10          2.2        0.062   \n",
       "1596          6.3        0.510         0.13          2.3        0.076   \n",
       "1597          5.9        0.645         0.12          2.0        0.075   \n",
       "1598          6.0        0.310         0.47          3.6        0.067   \n",
       "\n",
       "      Parameter 6  Parameter 7  Parameter 8  Parameter 9  Parameter 10  \\\n",
       "1594         32.0         44.0      0.99490         3.45          0.58   \n",
       "1595         39.0         51.0      0.99512         3.52          0.76   \n",
       "1596         29.0         40.0      0.99574         3.42          0.75   \n",
       "1597         32.0         44.0      0.99547         3.57          0.71   \n",
       "1598         18.0         42.0      0.99549         3.39          0.66   \n",
       "\n",
       "      Parameter 11  Signal_Strength  \n",
       "1594          10.5                5  \n",
       "1595          11.2                6  \n",
       "1596          11.0                6  \n",
       "1597          10.2                5  \n",
       "1598          11.0                6  "
      ]
     },
     "execution_count": 8,
     "metadata": {},
     "output_type": "execute_result"
    }
   ],
   "source": [
    "Data.tail()"
   ]
  },
  {
   "cell_type": "code",
   "execution_count": null,
   "metadata": {
    "colab": {
     "base_uri": "https://localhost:8080/"
    },
    "id": "oi5t4k5OLarm",
    "outputId": "f4ad93c6-f79a-4da3-9ebe-155724eaa705"
   },
   "outputs": [
    {
     "name": "stdout",
     "output_type": "stream",
     "text": [
      "<class 'pandas.core.frame.DataFrame'>\n",
      "RangeIndex: 1599 entries, 0 to 1598\n",
      "Data columns (total 12 columns):\n",
      " #   Column           Non-Null Count  Dtype  \n",
      "---  ------           --------------  -----  \n",
      " 0   Parameter 1      1599 non-null   float64\n",
      " 1   Parameter 2      1599 non-null   float64\n",
      " 2   Parameter 3      1599 non-null   float64\n",
      " 3   Parameter 4      1599 non-null   float64\n",
      " 4   Parameter 5      1599 non-null   float64\n",
      " 5   Parameter 6      1599 non-null   float64\n",
      " 6   Parameter 7      1599 non-null   float64\n",
      " 7   Parameter 8      1599 non-null   float64\n",
      " 8   Parameter 9      1599 non-null   float64\n",
      " 9   Parameter 10     1599 non-null   float64\n",
      " 10  Parameter 11     1599 non-null   float64\n",
      " 11  Signal_Strength  1599 non-null   int64  \n",
      "dtypes: float64(11), int64(1)\n",
      "memory usage: 150.0 KB\n"
     ]
    }
   ],
   "source": [
    "Data.info()"
   ]
  },
  {
   "cell_type": "code",
   "execution_count": null,
   "metadata": {
    "colab": {
     "base_uri": "https://localhost:8080/",
     "height": 460
    },
    "id": "pE2iz4xiLfT9",
    "outputId": "11a709c2-06fb-4d31-a3a5-ea665327ec41"
   },
   "outputs": [
    {
     "data": {
      "text/html": [
       "<div>\n",
       "<style scoped>\n",
       "    .dataframe tbody tr th:only-of-type {\n",
       "        vertical-align: middle;\n",
       "    }\n",
       "\n",
       "    .dataframe tbody tr th {\n",
       "        vertical-align: top;\n",
       "    }\n",
       "\n",
       "    .dataframe thead th {\n",
       "        text-align: right;\n",
       "    }\n",
       "</style>\n",
       "<table border=\"1\" class=\"dataframe\">\n",
       "  <thead>\n",
       "    <tr style=\"text-align: right;\">\n",
       "      <th></th>\n",
       "      <th>0</th>\n",
       "    </tr>\n",
       "  </thead>\n",
       "  <tbody>\n",
       "    <tr>\n",
       "      <th>Parameter 1</th>\n",
       "      <td>0.0</td>\n",
       "    </tr>\n",
       "    <tr>\n",
       "      <th>Parameter 2</th>\n",
       "      <td>0.0</td>\n",
       "    </tr>\n",
       "    <tr>\n",
       "      <th>Parameter 3</th>\n",
       "      <td>0.0</td>\n",
       "    </tr>\n",
       "    <tr>\n",
       "      <th>Parameter 4</th>\n",
       "      <td>0.0</td>\n",
       "    </tr>\n",
       "    <tr>\n",
       "      <th>Parameter 5</th>\n",
       "      <td>0.0</td>\n",
       "    </tr>\n",
       "    <tr>\n",
       "      <th>Parameter 6</th>\n",
       "      <td>0.0</td>\n",
       "    </tr>\n",
       "    <tr>\n",
       "      <th>Parameter 7</th>\n",
       "      <td>0.0</td>\n",
       "    </tr>\n",
       "    <tr>\n",
       "      <th>Parameter 8</th>\n",
       "      <td>0.0</td>\n",
       "    </tr>\n",
       "    <tr>\n",
       "      <th>Parameter 9</th>\n",
       "      <td>0.0</td>\n",
       "    </tr>\n",
       "    <tr>\n",
       "      <th>Parameter 10</th>\n",
       "      <td>0.0</td>\n",
       "    </tr>\n",
       "    <tr>\n",
       "      <th>Parameter 11</th>\n",
       "      <td>0.0</td>\n",
       "    </tr>\n",
       "    <tr>\n",
       "      <th>Signal_Strength</th>\n",
       "      <td>0.0</td>\n",
       "    </tr>\n",
       "  </tbody>\n",
       "</table>\n",
       "</div><br><label><b>dtype:</b> float64</label>"
      ],
      "text/plain": [
       "Parameter 1        0.0\n",
       "Parameter 2        0.0\n",
       "Parameter 3        0.0\n",
       "Parameter 4        0.0\n",
       "Parameter 5        0.0\n",
       "Parameter 6        0.0\n",
       "Parameter 7        0.0\n",
       "Parameter 8        0.0\n",
       "Parameter 9        0.0\n",
       "Parameter 10       0.0\n",
       "Parameter 11       0.0\n",
       "Signal_Strength    0.0\n",
       "dtype: float64"
      ]
     },
     "execution_count": 13,
     "metadata": {},
     "output_type": "execute_result"
    }
   ],
   "source": [
    "round(Data.isnull().sum()/Data.isnull().count()*100,2)"
   ]
  },
  {
   "cell_type": "markdown",
   "metadata": {
    "id": "0ZD_qnwrNGKo"
   },
   "source": [
    "- So, no NULL value in the data"
   ]
  },
  {
   "cell_type": "code",
   "execution_count": null,
   "metadata": {
    "colab": {
     "base_uri": "https://localhost:8080/"
    },
    "id": "25mPvZsyNKc9",
    "outputId": "ee594c4d-51ad-4121-fdd1-19b880220ac2"
   },
   "outputs": [
    {
     "data": {
      "text/plain": [
       "240"
      ]
     },
     "execution_count": 14,
     "metadata": {},
     "output_type": "execute_result"
    }
   ],
   "source": [
    "# Check for presence of duplicate records in the dataset and impute with appropriate method.\n",
    "Data.duplicated().sum()\n"
   ]
  },
  {
   "cell_type": "code",
   "execution_count": null,
   "metadata": {
    "id": "XmycwcGXNWgS"
   },
   "outputs": [],
   "source": [
    "Data.drop_duplicates(inplace=True)"
   ]
  },
  {
   "cell_type": "code",
   "execution_count": null,
   "metadata": {
    "colab": {
     "base_uri": "https://localhost:8080/"
    },
    "id": "x5Ld9tiZNfci",
    "outputId": "7e353c0b-19ec-4724-f4a8-815d87d3d59a"
   },
   "outputs": [
    {
     "data": {
      "text/plain": [
       "(1359, 12)"
      ]
     },
     "execution_count": 22,
     "metadata": {},
     "output_type": "execute_result"
    }
   ],
   "source": [
    "Data.shape"
   ]
  },
  {
   "cell_type": "code",
   "execution_count": null,
   "metadata": {
    "colab": {
     "base_uri": "https://localhost:8080/"
    },
    "id": "IuaFyKXgNle3",
    "outputId": "ef56fa50-e1a8-4847-fcec-77d876cae3f7"
   },
   "outputs": [
    {
     "data": {
      "text/plain": [
       "0"
      ]
     },
     "execution_count": 23,
     "metadata": {},
     "output_type": "execute_result"
    }
   ],
   "source": [
    "Data.duplicated().sum()"
   ]
  },
  {
   "cell_type": "code",
   "execution_count": null,
   "metadata": {
    "id": "a-34d26INsvx"
   },
   "outputs": [],
   "source": [
    "# Visualise distribution of the target variable.\n",
    "\n",
    "\n",
    "# Create a function to display boxplot and histgram\n",
    "def plot_distribution(df, feature, figsize=(12, 7), kde=False, bins=None):\n",
    "    f2, (ax_box2, ax_hist2) = plt.subplots(\n",
    "        nrows = 2,\n",
    "        sharex = True,\n",
    "        gridspec_kw={\"height_ratios\": (0.25, 0.75)},\n",
    "        figsize = figsize,\n",
    "        dpi = 100\n",
    "    )\n",
    "\n",
    "    sns.boxplot(data=df, x=feature, ax=ax_box2, showmeans=True, color='violet')\n",
    "\n",
    "    sns.histplot(data=df, x=feature, kde=kde, ax=ax_hist2, bins=bins, palette='winter') if bins else \\\n",
    "    sns.histplot(data=df, x=feature, kde=kde, ax=ax_hist2)\n",
    "\n",
    "    ax_hist2.axvline(df[feature].mean(), color='green', linestyle='--')\n",
    "\n",
    "    ax_hist2.axvline(df[feature].median(), color='black', linestyle='-')\n",
    "\n",
    "    plt.show()\n"
   ]
  },
  {
   "cell_type": "code",
   "execution_count": null,
   "metadata": {
    "colab": {
     "base_uri": "https://localhost:8080/",
     "height": 619
    },
    "id": "PbHQCvNyQOq-",
    "outputId": "dd37053b-d155-47ce-8599-32d6422f9f11"
   },
   "outputs": [
    {
     "data": {
      "image/png": "[encoded data removed]",
      "text/plain": [
       "<Figure size 1200x700 with 2 Axes>"
      ]
     },
     "metadata": {},
     "output_type": "display_data"
    }
   ],
   "source": [
    "plot_distribution(Data, 'Signal_Strength')"
   ]
  },
  {
   "cell_type": "markdown",
   "metadata": {
    "id": "AMi1WgAiQq9b"
   },
   "source": [
    "### Insights from the initial data analysis\n",
    "- Target variable is almost normalized.\n",
    "- The mean of the target variable is approx 5.7.\n",
    "- The median of the target variable is 6.\n",
    "- Maximum target variable is between 5 to 6.\n",
    "- Range of target varialbe is from 3 to 8.   "
   ]
  },
  {
   "cell_type": "markdown",
   "metadata": {
    "id": "VVx9YgnQR79Z"
   },
   "source": [
    "### 2. Data preprocessing\n",
    "- A. Split the data into X & Y.\n",
    "- B. Split the data into train & test with 70:30 proportion.\n",
    "- C. Print shape of all the 4 variables and verify if train and test data is in sync.\n",
    "- D. Normalise the train and test data with appropriate method.\n",
    "- E. Transform Labels into format acceptable by Neural Network."
   ]
  },
  {
   "cell_type": "code",
   "execution_count": null,
   "metadata": {
    "colab": {
     "base_uri": "https://localhost:8080/",
     "height": 304
    },
    "id": "QSatjpRARy5y",
    "outputId": "58bec17e-e0eb-4700-b813-b39b855eee03"
   },
   "outputs": [
    {
     "data": {
      "text/html": [
       "<div>\n",
       "<style scoped>\n",
       "    .dataframe tbody tr th:only-of-type {\n",
       "        vertical-align: middle;\n",
       "    }\n",
       "\n",
       "    .dataframe tbody tr th {\n",
       "        vertical-align: top;\n",
       "    }\n",
       "\n",
       "    .dataframe thead th {\n",
       "        text-align: right;\n",
       "    }\n",
       "</style>\n",
       "<table border=\"1\" class=\"dataframe\">\n",
       "  <thead>\n",
       "    <tr style=\"text-align: right;\">\n",
       "      <th></th>\n",
       "      <th>count</th>\n",
       "    </tr>\n",
       "    <tr>\n",
       "      <th>Signal_Strength</th>\n",
       "      <th></th>\n",
       "    </tr>\n",
       "  </thead>\n",
       "  <tbody>\n",
       "    <tr>\n",
       "      <th>5</th>\n",
       "      <td>577</td>\n",
       "    </tr>\n",
       "    <tr>\n",
       "      <th>6</th>\n",
       "      <td>535</td>\n",
       "    </tr>\n",
       "    <tr>\n",
       "      <th>7</th>\n",
       "      <td>167</td>\n",
       "    </tr>\n",
       "    <tr>\n",
       "      <th>4</th>\n",
       "      <td>53</td>\n",
       "    </tr>\n",
       "    <tr>\n",
       "      <th>8</th>\n",
       "      <td>17</td>\n",
       "    </tr>\n",
       "    <tr>\n",
       "      <th>3</th>\n",
       "      <td>10</td>\n",
       "    </tr>\n",
       "  </tbody>\n",
       "</table>\n",
       "</div><br><label><b>dtype:</b> int64</label>"
      ],
      "text/plain": [
       "Signal_Strength\n",
       "5                  577\n",
       "6                  535\n",
       "7                  167\n",
       "4                   53\n",
       "8                   17\n",
       "3                   10\n",
       "Name: count, dtype: int64"
      ]
     },
     "execution_count": 30,
     "metadata": {},
     "output_type": "execute_result"
    }
   ],
   "source": [
    "#  Split the data into X & Y.\n",
    "\n",
    "X = Data.drop(['Signal_Strength'],axis=1)\n",
    "y = Data[['Signal_Strength']]\n",
    "\n",
    "# as we'll need to build classifier, so we'll need convert target variable to categorical variable\n",
    "Data[['Signal_Strength']].value_counts()"
   ]
  },
  {
   "cell_type": "code",
   "execution_count": null,
   "metadata": {
    "colab": {
     "base_uri": "https://localhost:8080/"
    },
    "id": "ZSSPMVJXSfCm",
    "outputId": "b439e713-0312-409e-b1b1-1a99eaa682ea"
   },
   "outputs": [
    {
     "data": {
      "text/plain": [
       "(1359, 9)"
      ]
     },
     "execution_count": 31,
     "metadata": {},
     "output_type": "execute_result"
    }
   ],
   "source": [
    "\n",
    "yc = to_categorical(y, num_classes=9)\n",
    "yc.shape"
   ]
  },
  {
   "cell_type": "code",
   "execution_count": null,
   "metadata": {
    "id": "5CxY5vXUSqvy"
   },
   "outputs": [],
   "source": [
    "# Split the data into train & test with 70:30 proportion.\n",
    "\n",
    "X_train, X_test, y_train, y_test = train_test_split(X,yc, test_size = 0.3, random_state = 42)\n",
    "\n"
   ]
  },
  {
   "cell_type": "code",
   "execution_count": null,
   "metadata": {
    "colab": {
     "base_uri": "https://localhost:8080/"
    },
    "id": "yp3HcrMbS6q3",
    "outputId": "10573a82-4b04-4358-b405-c87b8b377373"
   },
   "outputs": [
    {
     "name": "stdout",
     "output_type": "stream",
     "text": [
      "X train: (951, 11)\n",
      "X test (408, 11)\n",
      "y train (951, 1)\n",
      "y test (408, 1)\n"
     ]
    }
   ],
   "source": [
    "# Print shape of all the 4 variables and verify if train and test data is in sync.\n",
    "\n",
    "print(\"X train:\", X_train.shape)\n",
    "print(\"X test\", X_test.shape)\n",
    "print(\"y train\", y_train.shape)\n",
    "print(\"y test\", y_test.shape)"
   ]
  },
  {
   "cell_type": "markdown",
   "metadata": {
    "id": "AKotCdOOTbds"
   },
   "source": [
    "- The train and test data is in sync."
   ]
  },
  {
   "cell_type": "code",
   "execution_count": null,
   "metadata": {
    "id": "R68v6nezTfce"
   },
   "outputs": [],
   "source": [
    "# Normalise the train and test data with appropriate method\n",
    "\n",
    "from sklearn.preprocessing import StandardScaler\n",
    "\n",
    "scaler = StandardScaler()\n",
    "normalized_train_X = scaler.fit_transform(X_train)\n",
    "normalized_test_X = scaler.transform(X_test)"
   ]
  },
  {
   "cell_type": "code",
   "execution_count": null,
   "metadata": {
    "id": "z_AVuYi-ZRO6"
   },
   "outputs": [],
   "source": [
    "# Transform Labels into format acceptable by Neural Network\n",
    "\n",
    "y_train = np.array(y_train)\n",
    "y_test = np.array(y_test)\n"
   ]
  },
  {
   "cell_type": "markdown",
   "metadata": {
    "id": "yeoeQEfAZgOc"
   },
   "source": [
    "### 3. Model Training & Evaluation using Neural Network\n",
    "- A. Design a Neural Network to train a classifier.\n",
    "- B. Train the classifier using previously designed Architecture\n",
    "- C. Plot 2 separate visuals.\n",
    "    - i. Training Loss and Validation Loss\n",
    "    - ii. Training Accuracy and Validation Accuracy\n",
    "- D. Design new architecture/update existing architecture in attempt - to improve the performance of the model.\n",
    "- E. Plot visuals as in Q3.C and share insights about difference observed in both the models."
   ]
  },
  {
   "cell_type": "code",
   "execution_count": null,
   "metadata": {
    "id": "tOfqj4sPZzQ2"
   },
   "outputs": [],
   "source": [
    "# Design a Neural Network to train a classifier.\n",
    "\n",
    "backend.clear_session()\n",
    "np.random.seed(42)\n",
    "random.seed(42)\n",
    "tf.random.set_seed(42)"
   ]
  },
  {
   "cell_type": "code",
   "execution_count": null,
   "metadata": {
    "id": "Ku-D-hNWJgDV"
   },
   "outputs": [],
   "source": [
    "model = Sequential()\n",
    "model.add(Dense(11, activation='relu'))\n",
    "\n",
    "model.add(Dense(9, activation='relu'))\n",
    "\n",
    "model.add(Dense(9, activation='softmax'))\n"
   ]
  },
  {
   "cell_type": "code",
   "execution_count": null,
   "metadata": {
    "id": "qx7d9kGqKbfC"
   },
   "outputs": [],
   "source": [
    "model.compile(optimizer = 'SGD', loss='categorical_crossentropy', metrics=['accuracy'])\n"
   ]
  },
  {
   "cell_type": "code",
   "execution_count": null,
   "metadata": {
    "colab": {
     "base_uri": "https://localhost:8080/"
    },
    "id": "OtCInsYaKzhI",
    "outputId": "d44a0712-b874-4e0b-cb5c-95691bb4724e"
   },
   "outputs": [
    {
     "name": "stdout",
     "output_type": "stream",
     "text": [
      "Epoch 1/50\n",
      "\u001b[1m24/24\u001b[0m \u001b[32m━━━━━━━━━━━━━━━━━━━━\u001b[0m\u001b[37m\u001b[0m \u001b[1m1s\u001b[0m 12ms/step - accuracy: 0.2017 - loss: 2.1230 - val_accuracy: 0.2723 - val_loss: 2.0739\n",
      "Epoch 2/50\n",
      "\u001b[1m24/24\u001b[0m \u001b[32m━━━━━━━━━━━━━━━━━━━━\u001b[0m\u001b[37m\u001b[0m \u001b[1m0s\u001b[0m 3ms/step - accuracy: 0.3298 - loss: 2.0439 - val_accuracy: 0.3822 - val_loss: 1.9981\n",
      "Epoch 3/50\n",
      "\u001b[1m24/24\u001b[0m \u001b[32m━━━━━━━━━━━━━━━━━━━━\u001b[0m\u001b[37m\u001b[0m \u001b[1m0s\u001b[0m 3ms/step - accuracy: 0.4089 - loss: 1.9698 - val_accuracy: 0.4817 - val_loss: 1.9267\n",
      "Epoch 4/50\n",
      "\u001b[1m24/24\u001b[0m \u001b[32m━━━━━━━━━━━━━━━━━━━━\u001b[0m\u001b[37m\u001b[0m \u001b[1m0s\u001b[0m 3ms/step - accuracy: 0.4865 - loss: 1.9003 - val_accuracy: 0.5079 - val_loss: 1.8596\n",
      "Epoch 5/50\n",
      "\u001b[1m24/24\u001b[0m \u001b[32m━━━━━━━━━━━━━━━━━━━━\u001b[0m\u001b[37m\u001b[0m \u001b[1m0s\u001b[0m 3ms/step - accuracy: 0.5205 - loss: 1.8352 - val_accuracy: 0.5183 - val_loss: 1.7969\n",
      "Epoch 6/50\n",
      "\u001b[1m24/24\u001b[0m \u001b[32m━━━━━━━━━━━━━━━━━━━━\u001b[0m\u001b[37m\u001b[0m \u001b[1m0s\u001b[0m 3ms/step - accuracy: 0.5207 - loss: 1.7742 - val_accuracy: 0.5131 - val_loss: 1.7380\n",
      "Epoch 7/50\n",
      "\u001b[1m24/24\u001b[0m \u001b[32m━━━━━━━━━━━━━━━━━━━━\u001b[0m\u001b[37m\u001b[0m \u001b[1m0s\u001b[0m 3ms/step - accuracy: 0.5289 - loss: 1.7165 - val_accuracy: 0.5236 - val_loss: 1.6821\n",
      "Epoch 8/50\n",
      "\u001b[1m24/24\u001b[0m \u001b[32m━━━━━━━━━━━━━━━━━━━━\u001b[0m\u001b[37m\u001b[0m \u001b[1m0s\u001b[0m 3ms/step - accuracy: 0.5441 - loss: 1.6620 - val_accuracy: 0.5288 - val_loss: 1.6295\n",
      "Epoch 9/50\n",
      "\u001b[1m24/24\u001b[0m \u001b[32m━━━━━━━━━━━━━━━━━━━━\u001b[0m\u001b[37m\u001b[0m \u001b[1m0s\u001b[0m 4ms/step - accuracy: 0.5454 - loss: 1.6103 - val_accuracy: 0.5445 - val_loss: 1.5796\n",
      "Epoch 10/50\n",
      "\u001b[1m24/24\u001b[0m \u001b[32m━━━━━━━━━━━━━━━━━━━━\u001b[0m\u001b[37m\u001b[0m \u001b[1m0s\u001b[0m 3ms/step - accuracy: 0.5541 - loss: 1.5609 - val_accuracy: 0.5497 - val_loss: 1.5327\n",
      "Epoch 11/50\n",
      "\u001b[1m24/24\u001b[0m \u001b[32m━━━━━━━━━━━━━━━━━━━━\u001b[0m\u001b[37m\u001b[0m \u001b[1m0s\u001b[0m 4ms/step - accuracy: 0.5536 - loss: 1.5145 - val_accuracy: 0.5550 - val_loss: 1.4882\n",
      "Epoch 12/50\n",
      "\u001b[1m24/24\u001b[0m \u001b[32m━━━━━━━━━━━━━━━━━━━━\u001b[0m\u001b[37m\u001b[0m \u001b[1m0s\u001b[0m 3ms/step - accuracy: 0.5557 - loss: 1.4709 - val_accuracy: 0.5759 - val_loss: 1.4471\n",
      "Epoch 13/50\n",
      "\u001b[1m24/24\u001b[0m \u001b[32m━━━━━━━━━━━━━━━━━━━━\u001b[0m\u001b[37m\u001b[0m \u001b[1m0s\u001b[0m 3ms/step - accuracy: 0.5581 - loss: 1.4303 - val_accuracy: 0.5707 - val_loss: 1.4096\n",
      "Epoch 14/50\n",
      "\u001b[1m24/24\u001b[0m \u001b[32m━━━━━━━━━━━━━━━━━━━━\u001b[0m\u001b[37m\u001b[0m \u001b[1m0s\u001b[0m 4ms/step - accuracy: 0.5506 - loss: 1.3932 - val_accuracy: 0.5602 - val_loss: 1.3760\n",
      "Epoch 15/50\n",
      "\u001b[1m24/24\u001b[0m \u001b[32m━━━━━━━━━━━━━━━━━━━━\u001b[0m\u001b[37m\u001b[0m \u001b[1m0s\u001b[0m 3ms/step - accuracy: 0.5456 - loss: 1.3596 - val_accuracy: 0.5550 - val_loss: 1.3465\n",
      "Epoch 16/50\n",
      "\u001b[1m24/24\u001b[0m \u001b[32m━━━━━━━━━━━━━━━━━━━━\u001b[0m\u001b[37m\u001b[0m \u001b[1m0s\u001b[0m 4ms/step - accuracy: 0.5366 - loss: 1.3299 - val_accuracy: 0.5497 - val_loss: 1.3208\n",
      "Epoch 17/50\n",
      "\u001b[1m24/24\u001b[0m \u001b[32m━━━━━━━━━━━━━━━━━━━━\u001b[0m\u001b[37m\u001b[0m \u001b[1m0s\u001b[0m 3ms/step - accuracy: 0.5358 - loss: 1.3043 - val_accuracy: 0.5445 - val_loss: 1.2988\n",
      "Epoch 18/50\n",
      "\u001b[1m24/24\u001b[0m \u001b[32m━━━━━━━━━━━━━━━━━━━━\u001b[0m\u001b[37m\u001b[0m \u001b[1m0s\u001b[0m 3ms/step - accuracy: 0.5314 - loss: 1.2823 - val_accuracy: 0.5497 - val_loss: 1.2800\n",
      "Epoch 19/50\n",
      "\u001b[1m24/24\u001b[0m \u001b[32m━━━━━━━━━━━━━━━━━━━━\u001b[0m\u001b[37m\u001b[0m \u001b[1m0s\u001b[0m 4ms/step - accuracy: 0.5341 - loss: 1.2632 - val_accuracy: 0.5550 - val_loss: 1.2638\n",
      "Epoch 20/50\n",
      "\u001b[1m24/24\u001b[0m \u001b[32m━━━━━━━━━━━━━━━━━━━━\u001b[0m\u001b[37m\u001b[0m \u001b[1m0s\u001b[0m 3ms/step - accuracy: 0.5394 - loss: 1.2466 - val_accuracy: 0.5654 - val_loss: 1.2496\n",
      "Epoch 21/50\n",
      "\u001b[1m24/24\u001b[0m \u001b[32m━━━━━━━━━━━━━━━━━━━━\u001b[0m\u001b[37m\u001b[0m \u001b[1m0s\u001b[0m 3ms/step - accuracy: 0.5411 - loss: 1.2321 - val_accuracy: 0.5812 - val_loss: 1.2370\n",
      "Epoch 22/50\n",
      "\u001b[1m24/24\u001b[0m \u001b[32m━━━━━━━━━━━━━━━━━━━━\u001b[0m\u001b[37m\u001b[0m \u001b[1m0s\u001b[0m 3ms/step - accuracy: 0.5418 - loss: 1.2192 - val_accuracy: 0.5812 - val_loss: 1.2260\n",
      "Epoch 23/50\n",
      "\u001b[1m24/24\u001b[0m \u001b[32m━━━━━━━━━━━━━━━━━━━━\u001b[0m\u001b[37m\u001b[0m \u001b[1m0s\u001b[0m 3ms/step - accuracy: 0.5423 - loss: 1.2079 - val_accuracy: 0.5759 - val_loss: 1.2164\n",
      "Epoch 24/50\n",
      "\u001b[1m24/24\u001b[0m \u001b[32m━━━━━━━━━━━━━━━━━━━━\u001b[0m\u001b[37m\u001b[0m \u001b[1m0s\u001b[0m 5ms/step - accuracy: 0.5446 - loss: 1.1976 - val_accuracy: 0.5812 - val_loss: 1.2080\n",
      "Epoch 25/50\n",
      "\u001b[1m24/24\u001b[0m \u001b[32m━━━━━━━━━━━━━━━━━━━━\u001b[0m\u001b[37m\u001b[0m \u001b[1m0s\u001b[0m 5ms/step - accuracy: 0.5422 - loss: 1.1883 - val_accuracy: 0.5812 - val_loss: 1.2005\n",
      "Epoch 26/50\n",
      "\u001b[1m24/24\u001b[0m \u001b[32m━━━━━━━━━━━━━━━━━━━━\u001b[0m\u001b[37m\u001b[0m \u001b[1m0s\u001b[0m 4ms/step - accuracy: 0.5422 - loss: 1.1799 - val_accuracy: 0.5812 - val_loss: 1.1937\n",
      "Epoch 27/50\n",
      "\u001b[1m24/24\u001b[0m \u001b[32m━━━━━━━━━━━━━━━━━━━━\u001b[0m\u001b[37m\u001b[0m \u001b[1m0s\u001b[0m 3ms/step - accuracy: 0.5387 - loss: 1.1722 - val_accuracy: 0.5759 - val_loss: 1.1878\n",
      "Epoch 28/50\n",
      "\u001b[1m24/24\u001b[0m \u001b[32m━━━━━━━━━━━━━━━━━━━━\u001b[0m\u001b[37m\u001b[0m \u001b[1m0s\u001b[0m 3ms/step - accuracy: 0.5397 - loss: 1.1652 - val_accuracy: 0.5759 - val_loss: 1.1823\n",
      "Epoch 29/50\n",
      "\u001b[1m24/24\u001b[0m \u001b[32m━━━━━━━━━━━━━━━━━━━━\u001b[0m\u001b[37m\u001b[0m \u001b[1m0s\u001b[0m 3ms/step - accuracy: 0.5397 - loss: 1.1586 - val_accuracy: 0.5812 - val_loss: 1.1773\n",
      "Epoch 30/50\n",
      "\u001b[1m24/24\u001b[0m \u001b[32m━━━━━━━━━━━━━━━━━━━━\u001b[0m\u001b[37m\u001b[0m \u001b[1m0s\u001b[0m 4ms/step - accuracy: 0.5401 - loss: 1.1524 - val_accuracy: 0.5812 - val_loss: 1.1726\n",
      "Epoch 31/50\n",
      "\u001b[1m24/24\u001b[0m \u001b[32m━━━━━━━━━━━━━━━━━━━━\u001b[0m\u001b[37m\u001b[0m \u001b[1m0s\u001b[0m 3ms/step - accuracy: 0.5394 - loss: 1.1467 - val_accuracy: 0.5812 - val_loss: 1.1684\n",
      "Epoch 32/50\n",
      "\u001b[1m24/24\u001b[0m \u001b[32m━━━━━━━━━━━━━━━━━━━━\u001b[0m\u001b[37m\u001b[0m \u001b[1m0s\u001b[0m 3ms/step - accuracy: 0.5426 - loss: 1.1413 - val_accuracy: 0.5812 - val_loss: 1.1645\n",
      "Epoch 33/50\n",
      "\u001b[1m24/24\u001b[0m \u001b[32m━━━━━━━━━━━━━━━━━━━━\u001b[0m\u001b[37m\u001b[0m \u001b[1m0s\u001b[0m 4ms/step - accuracy: 0.5427 - loss: 1.1362 - val_accuracy: 0.5916 - val_loss: 1.1608\n",
      "Epoch 34/50\n",
      "\u001b[1m24/24\u001b[0m \u001b[32m━━━━━━━━━━━━━━━━━━━━\u001b[0m\u001b[37m\u001b[0m \u001b[1m0s\u001b[0m 3ms/step - accuracy: 0.5446 - loss: 1.1314 - val_accuracy: 0.5916 - val_loss: 1.1574\n",
      "Epoch 35/50\n",
      "\u001b[1m24/24\u001b[0m \u001b[32m━━━━━━━━━━━━━━━━━━━━\u001b[0m\u001b[37m\u001b[0m \u001b[1m0s\u001b[0m 3ms/step - accuracy: 0.5446 - loss: 1.1268 - val_accuracy: 0.5916 - val_loss: 1.1543\n",
      "Epoch 36/50\n",
      "\u001b[1m24/24\u001b[0m \u001b[32m━━━━━━━━━━━━━━━━━━━━\u001b[0m\u001b[37m\u001b[0m \u001b[1m0s\u001b[0m 3ms/step - accuracy: 0.5446 - loss: 1.1225 - val_accuracy: 0.5916 - val_loss: 1.1513\n",
      "Epoch 37/50\n",
      "\u001b[1m24/24\u001b[0m \u001b[32m━━━━━━━━━━━━━━━━━━━━\u001b[0m\u001b[37m\u001b[0m \u001b[1m0s\u001b[0m 3ms/step - accuracy: 0.5456 - loss: 1.1183 - val_accuracy: 0.5916 - val_loss: 1.1486\n",
      "Epoch 38/50\n",
      "\u001b[1m24/24\u001b[0m \u001b[32m━━━━━━━━━━━━━━━━━━━━\u001b[0m\u001b[37m\u001b[0m \u001b[1m0s\u001b[0m 4ms/step - accuracy: 0.5490 - loss: 1.1143 - val_accuracy: 0.5916 - val_loss: 1.1460\n",
      "Epoch 39/50\n",
      "\u001b[1m24/24\u001b[0m \u001b[32m━━━━━━━━━━━━━━━━━━━━\u001b[0m\u001b[37m\u001b[0m \u001b[1m0s\u001b[0m 3ms/step - accuracy: 0.5543 - loss: 1.1105 - val_accuracy: 0.5916 - val_loss: 1.1437\n",
      "Epoch 40/50\n",
      "\u001b[1m24/24\u001b[0m \u001b[32m━━━━━━━━━━━━━━━━━━━━\u001b[0m\u001b[37m\u001b[0m \u001b[1m0s\u001b[0m 4ms/step - accuracy: 0.5543 - loss: 1.1069 - val_accuracy: 0.5916 - val_loss: 1.1414\n",
      "Epoch 41/50\n",
      "\u001b[1m24/24\u001b[0m \u001b[32m━━━━━━━━━━━━━━━━━━━━\u001b[0m\u001b[37m\u001b[0m \u001b[1m0s\u001b[0m 4ms/step - accuracy: 0.5522 - loss: 1.1034 - val_accuracy: 0.5916 - val_loss: 1.1393\n",
      "Epoch 42/50\n",
      "\u001b[1m24/24\u001b[0m \u001b[32m━━━━━━━━━━━━━━━━━━━━\u001b[0m\u001b[37m\u001b[0m \u001b[1m0s\u001b[0m 3ms/step - accuracy: 0.5530 - loss: 1.1000 - val_accuracy: 0.5916 - val_loss: 1.1373\n",
      "Epoch 43/50\n",
      "\u001b[1m24/24\u001b[0m \u001b[32m━━━━━━━━━━━━━━━━━━━━\u001b[0m\u001b[37m\u001b[0m \u001b[1m0s\u001b[0m 4ms/step - accuracy: 0.5565 - loss: 1.0968 - val_accuracy: 0.5916 - val_loss: 1.1355\n",
      "Epoch 44/50\n",
      "\u001b[1m24/24\u001b[0m \u001b[32m━━━━━━━━━━━━━━━━━━━━\u001b[0m\u001b[37m\u001b[0m \u001b[1m0s\u001b[0m 3ms/step - accuracy: 0.5581 - loss: 1.0937 - val_accuracy: 0.5916 - val_loss: 1.1337\n",
      "Epoch 45/50\n",
      "\u001b[1m24/24\u001b[0m \u001b[32m━━━━━━━━━━━━━━━━━━━━\u001b[0m\u001b[37m\u001b[0m \u001b[1m0s\u001b[0m 3ms/step - accuracy: 0.5611 - loss: 1.0907 - val_accuracy: 0.5916 - val_loss: 1.1320\n",
      "Epoch 46/50\n",
      "\u001b[1m24/24\u001b[0m \u001b[32m━━━━━━━━━━━━━━━━━━━━\u001b[0m\u001b[37m\u001b[0m \u001b[1m0s\u001b[0m 4ms/step - accuracy: 0.5634 - loss: 1.0878 - val_accuracy: 0.5916 - val_loss: 1.1303\n",
      "Epoch 47/50\n",
      "\u001b[1m24/24\u001b[0m \u001b[32m━━━━━━━━━━━━━━━━━━━━\u001b[0m\u001b[37m\u001b[0m \u001b[1m0s\u001b[0m 3ms/step - accuracy: 0.5634 - loss: 1.0850 - val_accuracy: 0.5916 - val_loss: 1.1287\n",
      "Epoch 48/50\n",
      "\u001b[1m24/24\u001b[0m \u001b[32m━━━━━━━━━━━━━━━━━━━━\u001b[0m\u001b[37m\u001b[0m \u001b[1m0s\u001b[0m 3ms/step - accuracy: 0.5622 - loss: 1.0822 - val_accuracy: 0.5916 - val_loss: 1.1271\n",
      "Epoch 49/50\n",
      "\u001b[1m24/24\u001b[0m \u001b[32m━━━━━━━━━━━━━━━━━━━━\u001b[0m\u001b[37m\u001b[0m \u001b[1m0s\u001b[0m 3ms/step - accuracy: 0.5659 - loss: 1.0796 - val_accuracy: 0.5916 - val_loss: 1.1256\n",
      "Epoch 50/50\n",
      "\u001b[1m24/24\u001b[0m \u001b[32m━━━━━━━━━━━━━━━━━━━━\u001b[0m\u001b[37m\u001b[0m \u001b[1m0s\u001b[0m 4ms/step - accuracy: 0.5679 - loss: 1.0769 - val_accuracy: 0.5916 - val_loss: 1.1242\n"
     ]
    }
   ],
   "source": [
    "history=model.fit(normalized_train_X, y_train, validation_split=0.2,  epochs=50, batch_size=32, verbose=1)"
   ]
  },
  {
   "cell_type": "code",
   "execution_count": null,
   "metadata": {
    "colab": {
     "base_uri": "https://localhost:8080/"
    },
    "id": "fgceD-jrKb1I",
    "outputId": "8bb5a165-f4f9-41db-85a1-a1ffc43b907d"
   },
   "outputs": [
    {
     "name": "stderr",
     "output_type": "stream",
     "text": [
      "WARNING:absl:You are saving your model as an HDF5 file via `model.save()` or `keras.saving.save_model(model)`. This file format is considered legacy. We recommend using instead the native Keras format, e.g. `model.save('my_model.keras')` or `keras.saving.save_model(model, 'my_model.keras')`. \n"
     ]
    }
   ],
   "source": [
    "# Saving model for future use\n",
    "\n",
    "model.save('model_classify.h5')"
   ]
  },
  {
   "cell_type": "code",
   "execution_count": null,
   "metadata": {
    "colab": {
     "base_uri": "https://localhost:8080/",
     "height": 472
    },
    "id": "MeTIFarVKjqP",
    "outputId": "6b583e7a-ba09-42bf-bd87-d686f39b74f2"
   },
   "outputs": [
    {
     "data": {
      "image/png": "[encoded data removed]",
      "text/plain": [
       "<Figure size 640x480 with 1 Axes>"
      ]
     },
     "metadata": {},
     "output_type": "display_data"
    }
   ],
   "source": [
    "# Plot visuals for Training Loss and Validation Loss\n",
    "plt.plot(history.history['loss'])\n",
    "plt.plot(history.history['val_loss'])\n",
    "plt.title('model loss')\n",
    "plt.ylabel('Loss')\n",
    "plt.xlabel('Epoch')\n",
    "plt.legend(['train', 'validation'], loc='upper left')\n",
    "plt.show()"
   ]
  },
  {
   "cell_type": "code",
   "execution_count": null,
   "metadata": {
    "colab": {
     "base_uri": "https://localhost:8080/",
     "height": 472
    },
    "id": "flvgBm0fM1X6",
    "outputId": "19f88ec9-fa60-4a67-e9bc-5805bc52b0b7"
   },
   "outputs": [
    {
     "data": {
      "image/png": "[encoded data removed]",
      "text/plain": [
       "<Figure size 640x480 with 1 Axes>"
      ]
     },
     "metadata": {},
     "output_type": "display_data"
    }
   ],
   "source": [
    "# Plot visuals for Training Accuracy and Validation Accuracy\n",
    "\n",
    "plt.plot(history.history['accuracy'])\n",
    "plt.plot(history.history['val_accuracy'])\n",
    "plt.title('model accuracy')\n",
    "plt.ylabel('Accuracy')\n",
    "plt.xlabel('Epoch')\n",
    "plt.legend(['train', 'validation'], loc='upper left')\n",
    "plt.show()"
   ]
  },
  {
   "cell_type": "code",
   "execution_count": null,
   "metadata": {
    "id": "96sYvh-VOSs5"
   },
   "outputs": [],
   "source": [
    "# Design new architecture/update existing architecture in attempt to improve the performance of the model.\n",
    "\n",
    "model1 = Sequential()\n",
    "      #Adding the hidden and output layers\n",
    "model1.add(Dense(11,activation='relu',kernel_initializer='he_uniform',input_dim = normalized_train_X.shape[1]))\n",
    "model1.add(Dense(128,activation='relu',kernel_initializer='he_uniform'))\n",
    "model1.add(Dense(64,activation='relu',kernel_initializer='he_uniform'))\n",
    "model1.add(Dense(32,activation='relu',kernel_initializer='he_uniform'))\n",
    "model1.add(Dense(9, activation = 'softmax'))\n",
    "      #Compiling the ANN with Adam optimizer and binary cross entropy loss function\n",
    "optimizer = tf.keras.optimizers.Adam(0.001)\n",
    "model1.compile(loss='categorical_crossentropy',optimizer='SGD',metrics=['accuracy'])"
   ]
  },
  {
   "cell_type": "code",
   "execution_count": null,
   "metadata": {
    "colab": {
     "base_uri": "https://localhost:8080/"
    },
    "id": "ISwtezdhO47s",
    "outputId": "2cdfb128-c137-4fd9-9c51-1b710f2e6a2b"
   },
   "outputs": [
    {
     "name": "stdout",
     "output_type": "stream",
     "text": [
      "Epoch 1/50\n",
      "\u001b[1m12/12\u001b[0m \u001b[32m━━━━━━━━━━━━━━━━━━━━\u001b[0m\u001b[37m\u001b[0m \u001b[1m1s\u001b[0m 25ms/step - accuracy: 0.0711 - loss: 2.6009 - val_accuracy: 0.2880 - val_loss: 1.9846\n",
      "Epoch 2/50\n",
      "\u001b[1m12/12\u001b[0m \u001b[32m━━━━━━━━━━━━━━━━━━━━\u001b[0m\u001b[37m\u001b[0m \u001b[1m0s\u001b[0m 6ms/step - accuracy: 0.3376 - loss: 1.9178 - val_accuracy: 0.3979 - val_loss: 1.6785\n",
      "Epoch 3/50\n",
      "\u001b[1m12/12\u001b[0m \u001b[32m━━━━━━━━━━━━━━━━━━━━\u001b[0m\u001b[37m\u001b[0m \u001b[1m0s\u001b[0m 6ms/step - accuracy: 0.4322 - loss: 1.6541 - val_accuracy: 0.4136 - val_loss: 1.5083\n",
      "Epoch 4/50\n",
      "\u001b[1m12/12\u001b[0m \u001b[32m━━━━━━━━━━━━━━━━━━━━\u001b[0m\u001b[37m\u001b[0m \u001b[1m0s\u001b[0m 5ms/step - accuracy: 0.4572 - loss: 1.5048 - val_accuracy: 0.4293 - val_loss: 1.4121\n",
      "Epoch 5/50\n",
      "\u001b[1m12/12\u001b[0m \u001b[32m━━━━━━━━━━━━━━━━━━━━\u001b[0m\u001b[37m\u001b[0m \u001b[1m0s\u001b[0m 5ms/step - accuracy: 0.4878 - loss: 1.4219 - val_accuracy: 0.4346 - val_loss: 1.3528\n",
      "Epoch 6/50\n",
      "\u001b[1m12/12\u001b[0m \u001b[32m━━━━━━━━━━━━━━━━━━━━\u001b[0m\u001b[37m\u001b[0m \u001b[1m0s\u001b[0m 5ms/step - accuracy: 0.5108 - loss: 1.3708 - val_accuracy: 0.4607 - val_loss: 1.3138\n",
      "Epoch 7/50\n",
      "\u001b[1m12/12\u001b[0m \u001b[32m━━━━━━━━━━━━━━━━━━━━\u001b[0m\u001b[37m\u001b[0m \u001b[1m0s\u001b[0m 6ms/step - accuracy: 0.5179 - loss: 1.3361 - val_accuracy: 0.4712 - val_loss: 1.2860\n",
      "Epoch 8/50\n",
      "\u001b[1m12/12\u001b[0m \u001b[32m━━━━━━━━━━━━━━━━━━━━\u001b[0m\u001b[37m\u001b[0m \u001b[1m0s\u001b[0m 6ms/step - accuracy: 0.5194 - loss: 1.3097 - val_accuracy: 0.4869 - val_loss: 1.2643\n",
      "Epoch 9/50\n",
      "\u001b[1m12/12\u001b[0m \u001b[32m━━━━━━━━━━━━━━━━━━━━\u001b[0m\u001b[37m\u001b[0m \u001b[1m0s\u001b[0m 7ms/step - accuracy: 0.5313 - loss: 1.2875 - val_accuracy: 0.4974 - val_loss: 1.2464\n",
      "Epoch 10/50\n",
      "\u001b[1m12/12\u001b[0m \u001b[32m━━━━━━━━━━━━━━━━━━━━\u001b[0m\u001b[37m\u001b[0m \u001b[1m0s\u001b[0m 6ms/step - accuracy: 0.5290 - loss: 1.2682 - val_accuracy: 0.5131 - val_loss: 1.2314\n",
      "Epoch 11/50\n",
      "\u001b[1m12/12\u001b[0m \u001b[32m━━━━━━━━━━━━━━━━━━━━\u001b[0m\u001b[37m\u001b[0m \u001b[1m0s\u001b[0m 5ms/step - accuracy: 0.5286 - loss: 1.2509 - val_accuracy: 0.5340 - val_loss: 1.2184\n",
      "Epoch 12/50\n",
      "\u001b[1m12/12\u001b[0m \u001b[32m━━━━━━━━━━━━━━━━━━━━\u001b[0m\u001b[37m\u001b[0m \u001b[1m0s\u001b[0m 6ms/step - accuracy: 0.5374 - loss: 1.2351 - val_accuracy: 0.5393 - val_loss: 1.2072\n",
      "Epoch 13/50\n",
      "\u001b[1m12/12\u001b[0m \u001b[32m━━━━━━━━━━━━━━━━━━━━\u001b[0m\u001b[37m\u001b[0m \u001b[1m0s\u001b[0m 5ms/step - accuracy: 0.5411 - loss: 1.2208 - val_accuracy: 0.5445 - val_loss: 1.1976\n",
      "Epoch 14/50\n",
      "\u001b[1m12/12\u001b[0m \u001b[32m━━━━━━━━━━━━━━━━━━━━\u001b[0m\u001b[37m\u001b[0m \u001b[1m0s\u001b[0m 5ms/step - accuracy: 0.5351 - loss: 1.2075 - val_accuracy: 0.5550 - val_loss: 1.1886\n",
      "Epoch 15/50\n",
      "\u001b[1m12/12\u001b[0m \u001b[32m━━━━━━━━━━━━━━━━━━━━\u001b[0m\u001b[37m\u001b[0m \u001b[1m0s\u001b[0m 4ms/step - accuracy: 0.5348 - loss: 1.1949 - val_accuracy: 0.5707 - val_loss: 1.1803\n",
      "Epoch 16/50\n",
      "\u001b[1m12/12\u001b[0m \u001b[32m━━━━━━━━━━━━━━━━━━━━\u001b[0m\u001b[37m\u001b[0m \u001b[1m0s\u001b[0m 7ms/step - accuracy: 0.5340 - loss: 1.1832 - val_accuracy: 0.5759 - val_loss: 1.1722\n",
      "Epoch 17/50\n",
      "\u001b[1m12/12\u001b[0m \u001b[32m━━━━━━━━━━━━━━━━━━━━\u001b[0m\u001b[37m\u001b[0m \u001b[1m0s\u001b[0m 8ms/step - accuracy: 0.5442 - loss: 1.1722 - val_accuracy: 0.5759 - val_loss: 1.1650\n",
      "Epoch 18/50\n",
      "\u001b[1m12/12\u001b[0m \u001b[32m━━━━━━━━━━━━━━━━━━━━\u001b[0m\u001b[37m\u001b[0m \u001b[1m0s\u001b[0m 5ms/step - accuracy: 0.5464 - loss: 1.1621 - val_accuracy: 0.5812 - val_loss: 1.1584\n",
      "Epoch 19/50\n",
      "\u001b[1m12/12\u001b[0m \u001b[32m━━━━━━━━━━━━━━━━━━━━\u001b[0m\u001b[37m\u001b[0m \u001b[1m0s\u001b[0m 6ms/step - accuracy: 0.5408 - loss: 1.1529 - val_accuracy: 0.5916 - val_loss: 1.1516\n",
      "Epoch 20/50\n",
      "\u001b[1m12/12\u001b[0m \u001b[32m━━━━━━━━━━━━━━━━━━━━\u001b[0m\u001b[37m\u001b[0m \u001b[1m0s\u001b[0m 5ms/step - accuracy: 0.5388 - loss: 1.1441 - val_accuracy: 0.5916 - val_loss: 1.1459\n",
      "Epoch 21/50\n",
      "\u001b[1m12/12\u001b[0m \u001b[32m━━━━━━━━━━━━━━━━━━━━\u001b[0m\u001b[37m\u001b[0m \u001b[1m0s\u001b[0m 5ms/step - accuracy: 0.5399 - loss: 1.1355 - val_accuracy: 0.5812 - val_loss: 1.1411\n",
      "Epoch 22/50\n",
      "\u001b[1m12/12\u001b[0m \u001b[32m━━━━━━━━━━━━━━━━━━━━\u001b[0m\u001b[37m\u001b[0m \u001b[1m0s\u001b[0m 6ms/step - accuracy: 0.5481 - loss: 1.1275 - val_accuracy: 0.5812 - val_loss: 1.1364\n",
      "Epoch 23/50\n",
      "\u001b[1m12/12\u001b[0m \u001b[32m━━━━━━━━━━━━━━━━━━━━\u001b[0m\u001b[37m\u001b[0m \u001b[1m0s\u001b[0m 5ms/step - accuracy: 0.5525 - loss: 1.1198 - val_accuracy: 0.5812 - val_loss: 1.1321\n",
      "Epoch 24/50\n",
      "\u001b[1m12/12\u001b[0m \u001b[32m━━━━━━━━━━━━━━━━━━━━\u001b[0m\u001b[37m\u001b[0m \u001b[1m0s\u001b[0m 8ms/step - accuracy: 0.5506 - loss: 1.1121 - val_accuracy: 0.5864 - val_loss: 1.1280\n",
      "Epoch 25/50\n",
      "\u001b[1m12/12\u001b[0m \u001b[32m━━━━━━━━━━━━━━━━━━━━\u001b[0m\u001b[37m\u001b[0m \u001b[1m0s\u001b[0m 5ms/step - accuracy: 0.5523 - loss: 1.1048 - val_accuracy: 0.6021 - val_loss: 1.1244\n",
      "Epoch 26/50\n",
      "\u001b[1m12/12\u001b[0m \u001b[32m━━━━━━━━━━━━━━━━━━━━\u001b[0m\u001b[37m\u001b[0m \u001b[1m0s\u001b[0m 5ms/step - accuracy: 0.5563 - loss: 1.0977 - val_accuracy: 0.6126 - val_loss: 1.1205\n",
      "Epoch 27/50\n",
      "\u001b[1m12/12\u001b[0m \u001b[32m━━━━━━━━━━━━━━━━━━━━\u001b[0m\u001b[37m\u001b[0m \u001b[1m0s\u001b[0m 6ms/step - accuracy: 0.5566 - loss: 1.0911 - val_accuracy: 0.6283 - val_loss: 1.1172\n",
      "Epoch 28/50\n",
      "\u001b[1m12/12\u001b[0m \u001b[32m━━━━━━━━━━━━━━━━━━━━\u001b[0m\u001b[37m\u001b[0m \u001b[1m0s\u001b[0m 5ms/step - accuracy: 0.5597 - loss: 1.0846 - val_accuracy: 0.6230 - val_loss: 1.1141\n",
      "Epoch 29/50\n",
      "\u001b[1m12/12\u001b[0m \u001b[32m━━━━━━━━━━━━━━━━━━━━\u001b[0m\u001b[37m\u001b[0m \u001b[1m0s\u001b[0m 6ms/step - accuracy: 0.5571 - loss: 1.0779 - val_accuracy: 0.6283 - val_loss: 1.1111\n",
      "Epoch 30/50\n",
      "\u001b[1m12/12\u001b[0m \u001b[32m━━━━━━━━━━━━━━━━━━━━\u001b[0m\u001b[37m\u001b[0m \u001b[1m0s\u001b[0m 5ms/step - accuracy: 0.5631 - loss: 1.0717 - val_accuracy: 0.6283 - val_loss: 1.1086\n",
      "Epoch 31/50\n",
      "\u001b[1m12/12\u001b[0m \u001b[32m━━━━━━━━━━━━━━━━━━━━\u001b[0m\u001b[37m\u001b[0m \u001b[1m0s\u001b[0m 5ms/step - accuracy: 0.5647 - loss: 1.0656 - val_accuracy: 0.6387 - val_loss: 1.1058\n",
      "Epoch 32/50\n",
      "\u001b[1m12/12\u001b[0m \u001b[32m━━━━━━━━━━━━━━━━━━━━\u001b[0m\u001b[37m\u001b[0m \u001b[1m0s\u001b[0m 5ms/step - accuracy: 0.5757 - loss: 1.0597 - val_accuracy: 0.6335 - val_loss: 1.1031\n",
      "Epoch 33/50\n",
      "\u001b[1m12/12\u001b[0m \u001b[32m━━━━━━━━━━━━━━━━━━━━\u001b[0m\u001b[37m\u001b[0m \u001b[1m0s\u001b[0m 7ms/step - accuracy: 0.5785 - loss: 1.0540 - val_accuracy: 0.6335 - val_loss: 1.1006\n",
      "Epoch 34/50\n",
      "\u001b[1m12/12\u001b[0m \u001b[32m━━━━━━━━━━━━━━━━━━━━\u001b[0m\u001b[37m\u001b[0m \u001b[1m0s\u001b[0m 5ms/step - accuracy: 0.5773 - loss: 1.0483 - val_accuracy: 0.6283 - val_loss: 1.0985\n",
      "Epoch 35/50\n",
      "\u001b[1m12/12\u001b[0m \u001b[32m━━━━━━━━━━━━━━━━━━━━\u001b[0m\u001b[37m\u001b[0m \u001b[1m0s\u001b[0m 6ms/step - accuracy: 0.5763 - loss: 1.0430 - val_accuracy: 0.6283 - val_loss: 1.0964\n",
      "Epoch 36/50\n",
      "\u001b[1m12/12\u001b[0m \u001b[32m━━━━━━━━━━━━━━━━━━━━\u001b[0m\u001b[37m\u001b[0m \u001b[1m0s\u001b[0m 5ms/step - accuracy: 0.5763 - loss: 1.0376 - val_accuracy: 0.6283 - val_loss: 1.0946\n",
      "Epoch 37/50\n",
      "\u001b[1m12/12\u001b[0m \u001b[32m━━━━━━━━━━━━━━━━━━━━\u001b[0m\u001b[37m\u001b[0m \u001b[1m0s\u001b[0m 5ms/step - accuracy: 0.5790 - loss: 1.0328 - val_accuracy: 0.6335 - val_loss: 1.0927\n",
      "Epoch 38/50\n",
      "\u001b[1m12/12\u001b[0m \u001b[32m━━━━━━━━━━━━━━━━━━━━\u001b[0m\u001b[37m\u001b[0m \u001b[1m0s\u001b[0m 5ms/step - accuracy: 0.5815 - loss: 1.0279 - val_accuracy: 0.6387 - val_loss: 1.0906\n",
      "Epoch 39/50\n",
      "\u001b[1m12/12\u001b[0m \u001b[32m━━━━━━━━━━━━━━━━━━━━\u001b[0m\u001b[37m\u001b[0m \u001b[1m0s\u001b[0m 5ms/step - accuracy: 0.5871 - loss: 1.0234 - val_accuracy: 0.6335 - val_loss: 1.0890\n",
      "Epoch 40/50\n",
      "\u001b[1m12/12\u001b[0m \u001b[32m━━━━━━━━━━━━━━━━━━━━\u001b[0m\u001b[37m\u001b[0m \u001b[1m0s\u001b[0m 5ms/step - accuracy: 0.5871 - loss: 1.0191 - val_accuracy: 0.6335 - val_loss: 1.0874\n",
      "Epoch 41/50\n",
      "\u001b[1m12/12\u001b[0m \u001b[32m━━━━━━━━━━━━━━━━━━━━\u001b[0m\u001b[37m\u001b[0m \u001b[1m0s\u001b[0m 6ms/step - accuracy: 0.5884 - loss: 1.0149 - val_accuracy: 0.6440 - val_loss: 1.0856\n",
      "Epoch 42/50\n",
      "\u001b[1m12/12\u001b[0m \u001b[32m━━━━━━━━━━━━━━━━━━━━\u001b[0m\u001b[37m\u001b[0m \u001b[1m0s\u001b[0m 5ms/step - accuracy: 0.5932 - loss: 1.0106 - val_accuracy: 0.6335 - val_loss: 1.0843\n",
      "Epoch 43/50\n",
      "\u001b[1m12/12\u001b[0m \u001b[32m━━━━━━━━━━━━━━━━━━━━\u001b[0m\u001b[37m\u001b[0m \u001b[1m0s\u001b[0m 5ms/step - accuracy: 0.5999 - loss: 1.0067 - val_accuracy: 0.6230 - val_loss: 1.0827\n",
      "Epoch 44/50\n",
      "\u001b[1m12/12\u001b[0m \u001b[32m━━━━━━━━━━━━━━━━━━━━\u001b[0m\u001b[37m\u001b[0m \u001b[1m0s\u001b[0m 10ms/step - accuracy: 0.6043 - loss: 1.0026 - val_accuracy: 0.6283 - val_loss: 1.0810\n",
      "Epoch 45/50\n",
      "\u001b[1m12/12\u001b[0m \u001b[32m━━━━━━━━━━━━━━━━━━━━\u001b[0m\u001b[37m\u001b[0m \u001b[1m0s\u001b[0m 8ms/step - accuracy: 0.6032 - loss: 0.9988 - val_accuracy: 0.6178 - val_loss: 1.0797\n",
      "Epoch 46/50\n",
      "\u001b[1m12/12\u001b[0m \u001b[32m━━━━━━━━━━━━━━━━━━━━\u001b[0m\u001b[37m\u001b[0m \u001b[1m0s\u001b[0m 7ms/step - accuracy: 0.6077 - loss: 0.9950 - val_accuracy: 0.6283 - val_loss: 1.0780\n",
      "Epoch 47/50\n",
      "\u001b[1m12/12\u001b[0m \u001b[32m━━━━━━━━━━━━━━━━━━━━\u001b[0m\u001b[37m\u001b[0m \u001b[1m0s\u001b[0m 9ms/step - accuracy: 0.6081 - loss: 0.9914 - val_accuracy: 0.6283 - val_loss: 1.0768\n",
      "Epoch 48/50\n",
      "\u001b[1m12/12\u001b[0m \u001b[32m━━━━━━━━━━━━━━━━━━━━\u001b[0m\u001b[37m\u001b[0m \u001b[1m0s\u001b[0m 8ms/step - accuracy: 0.6094 - loss: 0.9878 - val_accuracy: 0.6335 - val_loss: 1.0756\n",
      "Epoch 49/50\n",
      "\u001b[1m12/12\u001b[0m \u001b[32m━━━━━━━━━━━━━━━━━━━━\u001b[0m\u001b[37m\u001b[0m \u001b[1m0s\u001b[0m 8ms/step - accuracy: 0.6110 - loss: 0.9844 - val_accuracy: 0.6335 - val_loss: 1.0741\n",
      "Epoch 50/50\n",
      "\u001b[1m12/12\u001b[0m \u001b[32m━━━━━━━━━━━━━━━━━━━━\u001b[0m\u001b[37m\u001b[0m \u001b[1m0s\u001b[0m 8ms/step - accuracy: 0.6229 - loss: 0.9808 - val_accuracy: 0.6335 - val_loss: 1.0728\n"
     ]
    }
   ],
   "source": [
    "history1 = model1.fit(normalized_train_X,y_train,batch_size=64,epochs=50,verbose=1,validation_split = 0.2)"
   ]
  },
  {
   "cell_type": "code",
   "execution_count": null,
   "metadata": {
    "colab": {
     "base_uri": "https://localhost:8080/"
    },
    "id": "PYMOACdLP_ff",
    "outputId": "de62f817-50d5-4546-b5b3-7f6127563e8e"
   },
   "outputs": [
    {
     "name": "stderr",
     "output_type": "stream",
     "text": [
      "WARNING:absl:You are saving your model as an HDF5 file via `model.save()` or `keras.saving.save_model(model)`. This file format is considered legacy. We recommend using instead the native Keras format, e.g. `model.save('my_model.keras')` or `keras.saving.save_model(model, 'my_model.keras')`. \n"
     ]
    }
   ],
   "source": [
    "model1.save('model1_classify.h5')"
   ]
  },
  {
   "cell_type": "code",
   "execution_count": null,
   "metadata": {
    "colab": {
     "base_uri": "https://localhost:8080/",
     "height": 472
    },
    "id": "mDmIhUyBPUEM",
    "outputId": "c33a596b-6825-401b-c27a-2de89a336550"
   },
   "outputs": [
    {
     "data": {
      "image/png": "[encoded data removed]",
      "text/plain": [
       "<Figure size 640x480 with 1 Axes>"
      ]
     },
     "metadata": {},
     "output_type": "display_data"
    }
   ],
   "source": [
    "# Plot visuals for Training Loss and Validation Loss for new model\n",
    "plt.plot(history1.history['loss'])\n",
    "plt.plot(history1.history['val_loss'])\n",
    "plt.title('model loss')\n",
    "plt.ylabel('Loss')\n",
    "plt.xlabel('Epoch')\n",
    "plt.legend(['train', 'validation'], loc='upper right')\n",
    "plt.show()"
   ]
  },
  {
   "cell_type": "code",
   "execution_count": null,
   "metadata": {
    "colab": {
     "base_uri": "https://localhost:8080/",
     "height": 472
    },
    "id": "Sa1G4VJvPf6f",
    "outputId": "c5d3a8fe-acfd-410d-b599-119533c634fa"
   },
   "outputs": [
    {
     "data": {
      "image/png": "[encoded data removed]",
      "text/plain": [
       "<Figure size 640x480 with 1 Axes>"
      ]
     },
     "metadata": {},
     "output_type": "display_data"
    }
   ],
   "source": [
    "# Plot visuals for Training Accuracy and Validation Accuracy for new model\n",
    "\n",
    "plt.plot(history1.history['accuracy'])\n",
    "plt.plot(history1.history['val_accuracy'])\n",
    "plt.title('model accuracy')\n",
    "plt.ylabel('Accuracy')\n",
    "plt.xlabel('Epoch')\n",
    "plt.legend(['train', 'validation'], loc='lower right')\n",
    "plt.show()"
   ]
  },
  {
   "cell_type": "markdown",
   "metadata": {
    "id": "7OwA_Ok8QDyS"
   },
   "source": [
    "## PART - B"
   ]
  },
  {
   "cell_type": "markdown",
   "metadata": {
    "id": "fXG_sLyyTNBD"
   },
   "source": [
    "## 1. Data Import and Exploration\n",
    "- A. Read the .h5 file and assign to a variable.\n",
    "- B. Print all the keys from the .h5 file.\n",
    "- C. Split the data into X_train, X_test, Y_train, Y_test"
   ]
  },
  {
   "cell_type": "code",
   "execution_count": 31,
   "metadata": {
    "id": "8mFxadkEQG87"
   },
   "outputs": [],
   "source": [
    "# A. Read the .h5 file and assign to a variable.\n",
    "\n",
    "import h5py\n",
    "h5file = h5py.File('Autonomous_Vehicles_SVHN_single_grey1.h5', 'r')"
   ]
  },
  {
   "cell_type": "code",
   "execution_count": 32,
   "metadata": {},
   "outputs": [
    {
     "data": {
      "text/plain": [
       "['.ipynb_checkpoints',\n",
       " 'Autonomous_Vehicles_SVHN_single_grey1.h5',\n",
       " 'NN - Problem_Statement-2.pdf',\n",
       " 'NN Project Data - Signal.csv',\n",
       " 'NN+FAQ.pdf',\n",
       " 'NN-+Milestones.pdf',\n",
       " 'Nural_Networks_project.ipynb',\n",
       " 'Part-+1%2C2%263+-+Signal.csv',\n",
       " 'RE-EVALUATION+POLICY.pdf']"
      ]
     },
     "execution_count": 32,
     "metadata": {},
     "output_type": "execute_result"
    }
   ],
   "source": [
    "import os\n",
    "os.listdir()"
   ]
  },
  {
   "cell_type": "code",
   "execution_count": 33,
   "metadata": {
    "colab": {
     "base_uri": "https://localhost:8080/"
    },
    "id": "R5DWzYBNZFyE",
    "outputId": "f765b7c9-4810-48bb-ddf2-96134fe2c163"
   },
   "outputs": [
    {
     "data": {
      "text/plain": [
       "<KeysViewHDF5 ['X_test', 'X_train', 'X_val', 'y_test', 'y_train', 'y_val']>"
      ]
     },
     "execution_count": 33,
     "metadata": {},
     "output_type": "execute_result"
    }
   ],
   "source": [
    "# B. Print all the keys from the .h5 file.\n",
    "h5file.keys()"
   ]
  },
  {
   "cell_type": "code",
   "execution_count": 34,
   "metadata": {
    "id": "8SYd_gOBZnez"
   },
   "outputs": [],
   "source": [
    "# C. Split the data into X_train, X_test, Y_train, Y_test\n",
    "\n",
    "X_train = h5file['X_train'][:]\n",
    "y_train = h5file['y_train'][:]\n",
    "X_test = h5file['X_test'][:]\n",
    "y_test = h5file['y_test'][:]\n",
    "X_val = h5file['X_val'][:]\n",
    "y_val = h5file['y_val'][:]\n",
    "\n",
    "\n",
    "h5file.close()"
   ]
  },
  {
   "cell_type": "markdown",
   "metadata": {
    "id": "4bdl_THAeQig"
   },
   "source": [
    "### 2. Data Visualisation and preprocessing\n",
    "- A. Print shape of all the 4 data split into x, y, train, test to verify if x & y is in sync.\n",
    "- B. Visualise first 10 images in train data and print its corresponding labels.\n",
    "- C. Reshape all the images with appropriate shape update the data in same variable.\n",
    "- D. Normalise the images i.e. Normalise the pixel values.\n",
    "- E. Transform Labels into format acceptable by Neural Network\n",
    "- F. Print total Number of classes in the Dataset."
   ]
  },
  {
   "cell_type": "code",
   "execution_count": 35,
   "metadata": {
    "colab": {
     "base_uri": "https://localhost:8080/"
    },
    "id": "RheARcQWefi9",
    "outputId": "b1bf4ca9-7a72-4d1f-9561-9079d32576fc"
   },
   "outputs": [
    {
     "name": "stdout",
     "output_type": "stream",
     "text": [
      "Training Set: (42000, 32, 32) (42000,)\n",
      "Test Set: (18000, 32, 32) (18000,)\n",
      "Validation Set: (60000, 32, 32) (60000,)\n",
      "Labels in y_train: [0 1 2 3 4 5 6 7 8 9]\n",
      "Labels in y_test: [0 1 2 3 4 5 6 7 8 9]\n",
      "Labels in y_val: [0 1 2 3 4 5 6 7 8 9]\n"
     ]
    }
   ],
   "source": [
    "# A. Print shape of all the 4 data split into x, y, train, test to verify if x & y is in sync.\n",
    "import numpy as np\n",
    "print(\"Training Set:\", X_train.shape, y_train.shape)\n",
    "print(\"Test Set:\", X_test.shape, y_test.shape)\n",
    "print(\"Validation Set:\", X_val.shape, y_val.shape)\n",
    "\n",
    "\n",
    "print(\"Labels in y_train:\", np.unique(y_train))\n",
    "print(\"Labels in y_test:\", np.unique(y_test))\n",
    "print(\"Labels in y_val:\", np.unique(y_val))"
   ]
  },
  {
   "cell_type": "code",
   "execution_count": 36,
   "metadata": {
    "colab": {
     "base_uri": "https://localhost:8080/",
     "height": 119
    },
    "id": "AoK0pNlwrOA4",
    "outputId": "df4230ab-7c33-4301-e6bf-3d5305672b70"
   },
   "outputs": [
    {
     "data": {
      "image/png": "[encoded data removed]",
      "text/plain": [
       "<Figure size 1000x1000 with 10 Axes>"
      ]
     },
     "metadata": {},
     "output_type": "display_data"
    },
    {
     "name": "stdout",
     "output_type": "stream",
     "text": [
      "Label for each of the above image: [2 6 7 4 4 0 3 0 7 3]\n"
     ]
    }
   ],
   "source": [
    "# B. Visualise first 10 images in train data and print its corresponding labels.\n",
    "\n",
    "plt.figure(figsize=(10,10))\n",
    "\n",
    "for i in range(10):\n",
    "    plt.subplot(1, 10, i+1)\n",
    "    plt.imshow(X_train[i])\n",
    "    plt.axis('off')\n",
    "\n",
    "\n",
    "plt.show()\n",
    "\n",
    "print('Label for each of the above image: %s' % (y_train[0:10]))"
   ]
  },
  {
   "cell_type": "code",
   "execution_count": 37,
   "metadata": {
    "id": "DdDsAbNBtCJo"
   },
   "outputs": [],
   "source": [
    "# C. Reshape all the images with appropriate shape update the data in same variable.\n",
    "\n",
    "# Reshaping X data into (n, 32, 32)=> (n, 1024)\n",
    "\n",
    "X_train = X_train.reshape(X_train.shape[0], 1024)\n",
    "X_test = X_test.reshape(X_test.shape[0], 1024)\n",
    "X_val = X_val.reshape(X_val.shape[0], 1024)\n"
   ]
  },
  {
   "cell_type": "code",
   "execution_count": 38,
   "metadata": {
    "id": "EdOUut3Zv3Wk"
   },
   "outputs": [],
   "source": [
    "# D. Normalise the images i.e. Normalise the pixel values.\n",
    "\n",
    "X_train = X_train.astype('float32')\n",
    "X_test = X_test.astype('float32')\n",
    "X_val = X_val.astype('float32')\n",
    "\n",
    "X_train /= 255\n",
    "X_test /= 255\n",
    "X_val /= 255\n",
    "\n"
   ]
  },
  {
   "cell_type": "code",
   "execution_count": 39,
   "metadata": {
    "id": "SMFB8Hh7w8wU"
   },
   "outputs": [],
   "source": [
    "# E. Transform Labels into format acceptable by Neural Network\n",
    "\n",
    "y_train = to_categorical(y_train, num_classes=10)\n",
    "y_test = to_categorical(y_test, num_classes=10)\n",
    "y_val = to_categorical(y_val, num_classes=10)\n",
    "\n"
   ]
  },
  {
   "cell_type": "code",
   "execution_count": 40,
   "metadata": {
    "colab": {
     "base_uri": "https://localhost:8080/"
    },
    "id": "XuDwJFOjxaMx",
    "outputId": "e2be48b2-7975-470d-9efa-1598b12eece5"
   },
   "outputs": [
    {
     "name": "stdout",
     "output_type": "stream",
     "text": [
      "Total Number of classes: [0. 1.]\n"
     ]
    }
   ],
   "source": [
    "# F. Print total Number of classes in the Dataset.\n",
    "\n",
    "print(\"Total Number of classes:\", np.unique(y_train))"
   ]
  },
  {
   "cell_type": "code",
   "execution_count": 41,
   "metadata": {
    "colab": {
     "base_uri": "https://localhost:8080/"
    },
    "id": "GkuomOZwyA62",
    "outputId": "ddca0975-5aa9-4383-ab6e-82b51424cd04"
   },
   "outputs": [
    {
     "data": {
      "text/plain": [
       "array([[0., 0., 1., ..., 0., 0., 0.],\n",
       "       [0., 0., 0., ..., 0., 0., 0.],\n",
       "       [0., 0., 0., ..., 1., 0., 0.],\n",
       "       ...,\n",
       "       [0., 0., 0., ..., 1., 0., 0.],\n",
       "       [1., 0., 0., ..., 0., 0., 0.],\n",
       "       [0., 0., 0., ..., 0., 0., 0.]], dtype=float32)"
      ]
     },
     "execution_count": 41,
     "metadata": {},
     "output_type": "execute_result"
    }
   ],
   "source": [
    "y_train"
   ]
  },
  {
   "cell_type": "markdown",
   "metadata": {
    "id": "E1Ax1UyRyeQy"
   },
   "source": [
    "## 3. Model Training & Evaluation using Neural Network\n",
    "- A. Design a Neural Network to train a classifier.\n",
    "- B. Train the classifier using previously designed Architecture (Use best suitable parameters).\n",
    "- C. Evaluate performance of the model with appropriate metrics.\n",
    "- D. Plot the training loss, validation loss vs number of epochs and training accuracy, validation accuracy vs number of epochs plot and write your observations on the same."
   ]
  },
  {
   "cell_type": "code",
   "execution_count": 42,
   "metadata": {
    "id": "nyplgSkbyo1E"
   },
   "outputs": [],
   "source": [
    "# A. Design a Neural Network to train a classifier.\n",
    "\n",
    "model = Sequential()\n",
    "model.add(Dense(256, activation='relu', kernel_initializer='he_uniform', input_dim = X_train.shape[1]))\n",
    "model.add(Dense(128, activation='relu', kernel_initializer='he_uniform'))\n",
    "model.add(Dense(64, activation='relu', kernel_initializer='he_uniform'))\n",
    "model.add(Dense(32, activation='relu', kernel_initializer='he_uniform'))\n",
    "model.add(Dense(10, activation='softmax'))\n",
    "\n",
    "\n",
    "optimizer = tf.keras.optimizers.Adam(0.001)\n",
    "model.compile(loss='categorical_crossentropy',optimizer=optimizer,metrics=['accuracy'])"
   ]
  },
  {
   "cell_type": "code",
   "execution_count": 43,
   "metadata": {
    "colab": {
     "base_uri": "https://localhost:8080/"
    },
    "id": "QEzxWfphHspP",
    "outputId": "7402bde7-47a1-4bd1-e433-90e59c238a78"
   },
   "outputs": [
    {
     "name": "stdout",
     "output_type": "stream",
     "text": [
      "Epoch 1/50\n",
      "329/329 [==============================] - 3s 6ms/step - loss: 2.2264 - accuracy: 0.1483 - val_loss: 2.0754 - val_accuracy: 0.1925\n",
      "Epoch 2/50\n",
      "329/329 [==============================] - 2s 5ms/step - loss: 1.7483 - accuracy: 0.3842 - val_loss: 1.4298 - val_accuracy: 0.5426\n",
      "Epoch 3/50\n",
      "329/329 [==============================] - 2s 5ms/step - loss: 1.3487 - accuracy: 0.5597 - val_loss: 1.2625 - val_accuracy: 0.5924\n",
      "Epoch 4/50\n",
      "329/329 [==============================] - 2s 5ms/step - loss: 1.2033 - accuracy: 0.6147 - val_loss: 1.3461 - val_accuracy: 0.5611\n",
      "Epoch 5/50\n",
      "329/329 [==============================] - 1s 5ms/step - loss: 1.1143 - accuracy: 0.6485 - val_loss: 1.1196 - val_accuracy: 0.6439\n",
      "Epoch 6/50\n",
      "329/329 [==============================] - 2s 5ms/step - loss: 1.0402 - accuracy: 0.6745 - val_loss: 0.9761 - val_accuracy: 0.6973\n",
      "Epoch 7/50\n",
      "329/329 [==============================] - 2s 5ms/step - loss: 0.9846 - accuracy: 0.6894 - val_loss: 1.0482 - val_accuracy: 0.6683\n",
      "Epoch 8/50\n",
      "329/329 [==============================] - 1s 5ms/step - loss: 0.9494 - accuracy: 0.7041 - val_loss: 0.9094 - val_accuracy: 0.7176\n",
      "Epoch 9/50\n",
      "329/329 [==============================] - 1s 5ms/step - loss: 0.9115 - accuracy: 0.7145 - val_loss: 0.9231 - val_accuracy: 0.7127\n",
      "Epoch 10/50\n",
      "329/329 [==============================] - 2s 5ms/step - loss: 0.8787 - accuracy: 0.7262 - val_loss: 0.8300 - val_accuracy: 0.7430\n",
      "Epoch 11/50\n",
      "329/329 [==============================] - 2s 5ms/step - loss: 0.8493 - accuracy: 0.7347 - val_loss: 0.9063 - val_accuracy: 0.7221\n",
      "Epoch 12/50\n",
      "329/329 [==============================] - 1s 5ms/step - loss: 0.8270 - accuracy: 0.7426 - val_loss: 0.8195 - val_accuracy: 0.7443\n",
      "Epoch 13/50\n",
      "329/329 [==============================] - 2s 5ms/step - loss: 0.7980 - accuracy: 0.7501 - val_loss: 0.8088 - val_accuracy: 0.7453\n",
      "Epoch 14/50\n",
      "329/329 [==============================] - 2s 5ms/step - loss: 0.7878 - accuracy: 0.7525 - val_loss: 0.7520 - val_accuracy: 0.7685\n",
      "Epoch 15/50\n",
      "329/329 [==============================] - 2s 5ms/step - loss: 0.7581 - accuracy: 0.7626 - val_loss: 0.7994 - val_accuracy: 0.7560\n",
      "Epoch 16/50\n",
      "329/329 [==============================] - 2s 5ms/step - loss: 0.7440 - accuracy: 0.7672 - val_loss: 0.8633 - val_accuracy: 0.7229\n",
      "Epoch 17/50\n",
      "329/329 [==============================] - 2s 5ms/step - loss: 0.7189 - accuracy: 0.7766 - val_loss: 0.7151 - val_accuracy: 0.7777\n",
      "Epoch 18/50\n",
      "329/329 [==============================] - 2s 5ms/step - loss: 0.7087 - accuracy: 0.7775 - val_loss: 0.6823 - val_accuracy: 0.7893\n",
      "Epoch 19/50\n",
      "329/329 [==============================] - 2s 5ms/step - loss: 0.7062 - accuracy: 0.7779 - val_loss: 0.6942 - val_accuracy: 0.7847\n",
      "Epoch 20/50\n",
      "329/329 [==============================] - 2s 5ms/step - loss: 0.6846 - accuracy: 0.7839 - val_loss: 0.7103 - val_accuracy: 0.7791\n",
      "Epoch 21/50\n",
      "329/329 [==============================] - 2s 5ms/step - loss: 0.6676 - accuracy: 0.7921 - val_loss: 0.7017 - val_accuracy: 0.7803\n",
      "Epoch 22/50\n",
      "329/329 [==============================] - 2s 5ms/step - loss: 0.6570 - accuracy: 0.7936 - val_loss: 0.6901 - val_accuracy: 0.7838\n",
      "Epoch 23/50\n",
      "329/329 [==============================] - 1s 5ms/step - loss: 0.6504 - accuracy: 0.7945 - val_loss: 0.6628 - val_accuracy: 0.7923\n",
      "Epoch 24/50\n",
      "329/329 [==============================] - 2s 5ms/step - loss: 0.6360 - accuracy: 0.8001 - val_loss: 0.6321 - val_accuracy: 0.8062\n",
      "Epoch 25/50\n",
      "329/329 [==============================] - 1s 5ms/step - loss: 0.6230 - accuracy: 0.8052 - val_loss: 0.6316 - val_accuracy: 0.8036\n",
      "Epoch 26/50\n",
      "329/329 [==============================] - 2s 5ms/step - loss: 0.6156 - accuracy: 0.8071 - val_loss: 0.7113 - val_accuracy: 0.7796\n",
      "Epoch 27/50\n",
      "329/329 [==============================] - 2s 5ms/step - loss: 0.6004 - accuracy: 0.8108 - val_loss: 0.7048 - val_accuracy: 0.7803\n",
      "Epoch 28/50\n",
      "329/329 [==============================] - 2s 5ms/step - loss: 0.6004 - accuracy: 0.8105 - val_loss: 0.6165 - val_accuracy: 0.8092\n",
      "Epoch 29/50\n",
      "329/329 [==============================] - 2s 5ms/step - loss: 0.5954 - accuracy: 0.8116 - val_loss: 0.6521 - val_accuracy: 0.7985\n",
      "Epoch 30/50\n",
      "329/329 [==============================] - 2s 5ms/step - loss: 0.5731 - accuracy: 0.8206 - val_loss: 0.7203 - val_accuracy: 0.7702\n",
      "Epoch 31/50\n",
      "329/329 [==============================] - 2s 5ms/step - loss: 0.5911 - accuracy: 0.8122 - val_loss: 0.5930 - val_accuracy: 0.8154\n",
      "Epoch 32/50\n",
      "329/329 [==============================] - 2s 5ms/step - loss: 0.5567 - accuracy: 0.8237 - val_loss: 0.5600 - val_accuracy: 0.8281\n",
      "Epoch 33/50\n",
      "329/329 [==============================] - 2s 5ms/step - loss: 0.5631 - accuracy: 0.8234 - val_loss: 0.6139 - val_accuracy: 0.8086\n",
      "Epoch 34/50\n",
      "329/329 [==============================] - 1s 5ms/step - loss: 0.5482 - accuracy: 0.8270 - val_loss: 0.5956 - val_accuracy: 0.8140\n",
      "Epoch 35/50\n",
      "329/329 [==============================] - 2s 5ms/step - loss: 0.5333 - accuracy: 0.8301 - val_loss: 0.6020 - val_accuracy: 0.8115\n",
      "Epoch 36/50\n",
      "329/329 [==============================] - 2s 5ms/step - loss: 0.5350 - accuracy: 0.8301 - val_loss: 0.5638 - val_accuracy: 0.8271\n",
      "Epoch 37/50\n",
      "329/329 [==============================] - 2s 5ms/step - loss: 0.5211 - accuracy: 0.8345 - val_loss: 0.6632 - val_accuracy: 0.7913\n",
      "Epoch 38/50\n",
      "329/329 [==============================] - 1s 5ms/step - loss: 0.5169 - accuracy: 0.8369 - val_loss: 0.5598 - val_accuracy: 0.8265\n",
      "Epoch 39/50\n",
      "329/329 [==============================] - 2s 5ms/step - loss: 0.5138 - accuracy: 0.8353 - val_loss: 0.5566 - val_accuracy: 0.8270\n",
      "Epoch 40/50\n",
      "329/329 [==============================] - 2s 5ms/step - loss: 0.5026 - accuracy: 0.8403 - val_loss: 0.5238 - val_accuracy: 0.8391\n",
      "Epoch 41/50\n",
      "329/329 [==============================] - 1s 5ms/step - loss: 0.5158 - accuracy: 0.8334 - val_loss: 0.5695 - val_accuracy: 0.8250\n",
      "Epoch 42/50\n",
      "329/329 [==============================] - 2s 5ms/step - loss: 0.4960 - accuracy: 0.8421 - val_loss: 0.5303 - val_accuracy: 0.8365\n",
      "Epoch 43/50\n",
      "329/329 [==============================] - 2s 5ms/step - loss: 0.4858 - accuracy: 0.8453 - val_loss: 0.5417 - val_accuracy: 0.8327\n",
      "Epoch 44/50\n",
      "329/329 [==============================] - 2s 5ms/step - loss: 0.4881 - accuracy: 0.8435 - val_loss: 0.5404 - val_accuracy: 0.8326\n",
      "Epoch 45/50\n",
      "329/329 [==============================] - 1s 5ms/step - loss: 0.4773 - accuracy: 0.8465 - val_loss: 0.5274 - val_accuracy: 0.8398\n",
      "Epoch 46/50\n",
      "329/329 [==============================] - 2s 5ms/step - loss: 0.4747 - accuracy: 0.8471 - val_loss: 0.5525 - val_accuracy: 0.8303\n",
      "Epoch 47/50\n",
      "329/329 [==============================] - 2s 5ms/step - loss: 0.4688 - accuracy: 0.8514 - val_loss: 0.4989 - val_accuracy: 0.8486\n",
      "Epoch 48/50\n",
      "329/329 [==============================] - 2s 5ms/step - loss: 0.4610 - accuracy: 0.8538 - val_loss: 0.5694 - val_accuracy: 0.8253\n",
      "Epoch 49/50\n",
      "329/329 [==============================] - 1s 5ms/step - loss: 0.4500 - accuracy: 0.8563 - val_loss: 0.5118 - val_accuracy: 0.8423\n",
      "Epoch 50/50\n",
      "329/329 [==============================] - 2s 5ms/step - loss: 0.4582 - accuracy: 0.8536 - val_loss: 0.5205 - val_accuracy: 0.8396\n"
     ]
    }
   ],
   "source": [
    "# B. Train the classifier using previously designed Architecture (Use best suitable parameters).\n",
    "history = model.fit(X_train, y_train, validation_data = (X_val, y_val), epochs=50, batch_size=128, verbose=1)"
   ]
  },
  {
   "cell_type": "code",
   "execution_count": 44,
   "metadata": {
    "colab": {
     "base_uri": "https://localhost:8080/",
     "height": 933
    },
    "id": "JTA61N-X2rgh",
    "outputId": "047856e3-c804-4b6b-ef6e-7870ce819a49"
   },
   "outputs": [
    {
     "name": "stdout",
     "output_type": "stream",
     "text": [
      "Score of Loss and Accuracy during Test:\n",
      "\n",
      "Test loss: 0.6880878806114197\n",
      "Test accuracy: 0.8021110892295837\n",
      "563/563 [==============================] - 1s 983us/step\n",
      "Classification Report\n",
      "--------------------------------------------------------------------------------\n",
      "              precision    recall  f1-score   support\n",
      "\n",
      "           0       0.88      0.81      0.84      1814\n",
      "           1       0.84      0.79      0.82      1828\n",
      "           2       0.80      0.81      0.80      1803\n",
      "           3       0.77      0.76      0.77      1719\n",
      "           4       0.84      0.84      0.84      1812\n",
      "           5       0.75      0.80      0.78      1768\n",
      "           6       0.74      0.84      0.79      1832\n",
      "           7       0.81      0.86      0.83      1808\n",
      "           8       0.79      0.73      0.76      1812\n",
      "           9       0.83      0.76      0.79      1804\n",
      "\n",
      "    accuracy                           0.80     18000\n",
      "   macro avg       0.80      0.80      0.80     18000\n",
      "weighted avg       0.80      0.80      0.80     18000\n",
      "\n",
      "\n",
      "\n",
      "Confusion metrics on the target variable:\n",
      "\n"
     ]
    },
    {
     "data": {
      "text/plain": [
       "<Axes: >"
      ]
     },
     "execution_count": 44,
     "metadata": {},
     "output_type": "execute_result"
    },
    {
     "data": {
      "image/png": "[encoded data removed]",
      "text/plain": [
       "<Figure size 640x480 with 2 Axes>"
      ]
     },
     "metadata": {},
     "output_type": "display_data"
    }
   ],
   "source": [
    "# C. Evaluate performance of the model with appropriate metrics.\n",
    "\n",
    "from sklearn.metrics import confusion_matrix, classification_report\n",
    "\n",
    "print(\"Score of Loss and Accuracy during Test:\\n\")\n",
    "score = model.evaluate(X_test, y_test, verbose=0)\n",
    "print('Test loss:', score[0])\n",
    "print('Test accuracy:', score[1])\n",
    "\n",
    "# Classification report:\n",
    "\n",
    "y_pred=model.predict(X_test)\n",
    "y_pred = np.argmax(y_pred, axis=1)\n",
    "y_test = np.argmax(y_test, axis=1)\n",
    "print('Classification Report'); print('--'*40)\n",
    "print(classification_report(y_test, y_pred))\n",
    "\n",
    "#Calculating the confusion matrix\n",
    "\n",
    "\n",
    "pred_labels = y_pred\n",
    "true_labels = y_test\n",
    "\n",
    "cm = confusion_matrix(true_labels, pred_labels)\n",
    "\n",
    "print(\"\\n\\nConfusion metrics on the target variable:\\n\")\n",
    "\n",
    "import seaborn as sns\n",
    "sns.heatmap(cm, annot=True, fmt='d')"
   ]
  },
  {
   "cell_type": "code",
   "execution_count": 45,
   "metadata": {
    "colab": {
     "base_uri": "https://localhost:8080/",
     "height": 996
    },
    "id": "DZhUeNYKUXd4",
    "outputId": "12272c73-c8d4-4a3c-d319-2f1b19a928e8"
   },
   "outputs": [
    {
     "data": {
      "image/png": "[encoded data removed]",
      "text/plain": [
       "<Figure size 640x480 with 1 Axes>"
      ]
     },
     "metadata": {},
     "output_type": "display_data"
    },
    {
     "name": "stdout",
     "output_type": "stream",
     "text": [
      "\n",
      "\n",
      "\n",
      "\n"
     ]
    },
    {
     "data": {
      "image/png": "[encoded data removed]",
      "text/plain": [
       "<Figure size 640x480 with 1 Axes>"
      ]
     },
     "metadata": {},
     "output_type": "display_data"
    }
   ],
   "source": [
    "# D. Plot the training loss, validation loss vs number of epochs and training accuracy, validation accuracy vs number of epochs plot and write your observations on the same.\n",
    "\n",
    "# Plot visuals for Training Loss and Validation Loss for new model\n",
    "plt.plot(history.history['loss'])\n",
    "plt.plot(history.history['val_loss'])\n",
    "plt.title('model loss')\n",
    "plt.ylabel('Loss')\n",
    "plt.xlabel('Epoch')\n",
    "plt.legend(['train', 'validation'], loc='upper right')\n",
    "plt.show()\n",
    "\n",
    "\n",
    "# Plot visuals for Training Accuracy and Validation Accuracy for new model\n",
    "print(\"\\n\\n\\n\")\n",
    "plt.plot(history.history['accuracy'])\n",
    "plt.plot(history.history['val_accuracy'])\n",
    "plt.title('model accuracy')\n",
    "plt.ylabel('Accuracy')\n",
    "plt.xlabel('Epoch')\n",
    "plt.legend(['train', 'validation'], loc='lower right')\n",
    "plt.show()"
   ]
  },
  {
   "cell_type": "markdown",
   "metadata": {
    "id": "BQrInGCA-ldh"
   },
   "source": [
    "### Observations:\n",
    "- Model Loss is similer for Training and Validation data around .75, however it seems to increase a bit as it goes further.\n",
    "- Model Accuracy is similer for Training and Validation data around .80.\n",
    "- Model Accuracy to label is in the range of 75 to 85.\n",
    "- Test Loss is .76 and Test Accuracy is .78"
   ]
  }
 ],
 "metadata": {
  "accelerator": "TPU",
  "colab": {
   "gpuType": "V28",
   "provenance": []
  },
  "kernelspec": {
   "display_name": "Python 3 (ipykernel)",
   "language": "python",
   "name": "python3"
  },
  "language_info": {
   "codemirror_mode": {
    "name": "ipython",
    "version": 3
   },
   "file_extension": ".py",
   "mimetype": "text/x-python",
   "name": "python",
   "nbconvert_exporter": "python",
   "pygments_lexer": "ipython3",
   "version": "3.12.4"
  }
 },
 "nbformat": 4,
 "nbformat_minor": 4
}
